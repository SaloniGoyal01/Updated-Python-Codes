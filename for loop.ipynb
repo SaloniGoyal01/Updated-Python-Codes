{
 "cells": [
  {
   "cell_type": "code",
   "execution_count": 1,
   "id": "765fc023",
   "metadata": {},
   "outputs": [
    {
     "name": "stdout",
     "output_type": "stream",
     "text": [
      "Mango\n",
      "Apple\n",
      "Banana\n"
     ]
    }
   ],
   "source": [
    "fruits = [\"Mango\", \"Apple\", \"Banana\"]\n",
    "for value in fruits :\n",
    "    print(value)"
   ]
  },
  {
   "cell_type": "code",
   "execution_count": 7,
   "id": "35ded525",
   "metadata": {},
   "outputs": [
    {
     "name": "stdout",
     "output_type": "stream",
     "text": [
      "1\n",
      "2\n",
      "4\n",
      "6\n",
      "3\n",
      "5\n",
      "1\n"
     ]
    }
   ],
   "source": [
    "tuple = (1, 2, 4, 6, 3, 5, 1)\n",
    "for value in tuple :\n",
    "    print(value)"
   ]
  },
  {
   "cell_type": "code",
   "execution_count": 8,
   "id": "354f0f2e",
   "metadata": {},
   "outputs": [
    {
     "name": "stdout",
     "output_type": "stream",
     "text": [
      "1\n",
      "2\n",
      "3\n"
     ]
    }
   ],
   "source": [
    "tuple = (1, 2, 3)\n",
    "for num in tuple :\n",
    "    print(num)"
   ]
  },
  {
   "cell_type": "code",
   "execution_count": 11,
   "id": "c730bd4a",
   "metadata": {},
   "outputs": [
    {
     "name": "stdout",
     "output_type": "stream",
     "text": [
      "S\n",
      "a\n",
      "l\n",
      "o\n",
      "n\n",
      "i\n"
     ]
    }
   ],
   "source": [
    "name = \"Saloni\"\n",
    "for str in name :\n",
    "    print(str)"
   ]
  },
  {
   "cell_type": "code",
   "execution_count": 24,
   "id": "94307db1",
   "metadata": {},
   "outputs": [
    {
     "name": "stdout",
     "output_type": "stream",
     "text": [
      "S\n",
      "a\n",
      "l\n",
      "o found\n"
     ]
    }
   ],
   "source": [
    "name = \"SaloniGoyal\"\n",
    "for str in name:\n",
    "    if(str == \"o\") :\n",
    "        print(\"o found\")\n",
    "        break\n",
    "    print(str)\n",
    "else :\n",
    "    print(\"End\")"
   ]
  }
 ],
 "metadata": {
  "kernelspec": {
   "display_name": "Python 3",
   "language": "python",
   "name": "python3"
  },
  "language_info": {
   "codemirror_mode": {
    "name": "ipython",
    "version": 3
   },
   "file_extension": ".py",
   "mimetype": "text/x-python",
   "name": "python",
   "nbconvert_exporter": "python",
   "pygments_lexer": "ipython3",
   "version": "3.10.0"
  }
 },
 "nbformat": 4,
 "nbformat_minor": 5
}
