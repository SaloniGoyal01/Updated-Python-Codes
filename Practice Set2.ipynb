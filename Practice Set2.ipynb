{
 "cells": [
  {
   "cell_type": "code",
   "execution_count": 1,
   "id": "be809595",
   "metadata": {},
   "outputs": [
    {
     "name": "stdout",
     "output_type": "stream",
     "text": [
      "Hello World\n"
     ]
    }
   ],
   "source": [
    "print(\"Hello World\")"
   ]
  },
  {
   "cell_type": "code",
   "execution_count": 2,
   "id": "dce1fcda",
   "metadata": {},
   "outputs": [
    {
     "name": "stdout",
     "output_type": "stream",
     "text": [
      "1\n",
      "2\n",
      "3\n",
      "4\n",
      "5\n"
     ]
    }
   ],
   "source": [
    "n = 1\n",
    "while n<=5 :\n",
    "    print(n)\n",
    "    n+=1"
   ]
  },
  {
   "cell_type": "code",
   "execution_count": 3,
   "id": "6406f477",
   "metadata": {},
   "outputs": [
    {
     "name": "stdout",
     "output_type": "stream",
     "text": [
      "1\n",
      "2\n",
      "3\n",
      "4\n",
      "5\n"
     ]
    }
   ],
   "source": [
    "n = 1\n",
    "for i in range(1, 6) :\n",
    "    print(i)\n",
    "    i+=1"
   ]
  },
  {
   "cell_type": "code",
   "execution_count": 4,
   "id": "e5d1250a",
   "metadata": {},
   "outputs": [
    {
     "name": "stdout",
     "output_type": "stream",
     "text": [
      "5\n",
      "4\n",
      "3\n",
      "2\n",
      "1\n"
     ]
    }
   ],
   "source": [
    "n = 5\n",
    "while n>=1 :\n",
    "    print(n)\n",
    "    n-=1"
   ]
  },
  {
   "cell_type": "code",
   "execution_count": 5,
   "id": "2def5e60",
   "metadata": {},
   "outputs": [
    {
     "name": "stdout",
     "output_type": "stream",
     "text": [
      "5\n",
      "4\n",
      "3\n",
      "2\n",
      "1\n"
     ]
    }
   ],
   "source": [
    "n = 5\n",
    "for i in range(5, 0, -1) :\n",
    "    print(i)\n",
    "    i-=1"
   ]
  },
  {
   "cell_type": "code",
   "execution_count": 2,
   "id": "922cd01b",
   "metadata": {},
   "outputs": [
    {
     "name": "stdout",
     "output_type": "stream",
     "text": [
      "15\n"
     ]
    }
   ],
   "source": [
    "n = 1\n",
    "sum = 0\n",
    "while n<=5 :\n",
    "    sum+=n\n",
    "    n+=1\n",
    "print(sum)"
   ]
  },
  {
   "cell_type": "code",
   "execution_count": 4,
   "id": "4b08f7e9",
   "metadata": {},
   "outputs": [
    {
     "name": "stdout",
     "output_type": "stream",
     "text": [
      "Odd\n"
     ]
    }
   ],
   "source": [
    "n = 11\n",
    "if(n%2==0) :\n",
    "    print(\"Even\")\n",
    "else :\n",
    "    print(\"Odd\")"
   ]
  },
  {
   "cell_type": "code",
   "execution_count": 5,
   "id": "af85f754",
   "metadata": {},
   "outputs": [
    {
     "name": "stdout",
     "output_type": "stream",
     "text": [
      "120\n"
     ]
    }
   ],
   "source": [
    "num = 5\n",
    "fact = 1\n",
    "for i in range(1, 6) :\n",
    "    fact = fact*i\n",
    "    i+=1\n",
    "print(fact)"
   ]
  },
  {
   "cell_type": "code",
   "execution_count": 6,
   "id": "918bd960",
   "metadata": {},
   "outputs": [
    {
     "name": "stdout",
     "output_type": "stream",
     "text": [
      "olleh\n"
     ]
    }
   ],
   "source": [
    "str = \"hello\"\n",
    "reversed_str = \"\"\n",
    "for i in str :\n",
    "    reversed_str = i + reversed_str\n",
    "print(reversed_str)"
   ]
  },
  {
   "cell_type": "code",
   "execution_count": null,
   "id": "d4ff25d0",
   "metadata": {},
   "outputs": [],
   "source": [
    "str = \"level\"\n",
    "reversed_str = \"\"\n",
    "for i in str :\n",
    "    if (reversed_str == i) :\n",
    "        reversed_str = i+reversed_str\n",
    "        print(\"Palindrome\")\n",
    "    else :\n",
    "        print(\"Not Palindrome\")\n"
   ]
  },
  {
   "cell_type": "code",
   "execution_count": 15,
   "id": "99d378df",
   "metadata": {},
   "outputs": [
    {
     "name": "stdout",
     "output_type": "stream",
     "text": [
      "Prime No.\n"
     ]
    }
   ],
   "source": [
    "num = 7\n",
    "\n",
    "if num <= 1 :\n",
    "    print(\"not a Prime No.\")\n",
    "else :\n",
    "    for i in range(2, num) :\n",
    "        if num%i==0 :\n",
    "            print(\"not a Prime No.\")\n",
    "            break\n",
    "    else :\n",
    "        print(\"Prime No.\")\n"
   ]
  },
  {
   "cell_type": "code",
   "execution_count": 3,
   "id": "568477f4",
   "metadata": {},
   "outputs": [
    {
     "name": "stdout",
     "output_type": "stream",
     "text": [
      "59.0\n"
     ]
    }
   ],
   "source": [
    "#  Convert temperature from Celsius to Fahrenheit.\n",
    "temp_cel = 15\n",
    "foren_temp = (temp_cel * 9/5) + 32\n",
    "print(foren_temp)"
   ]
  },
  {
   "cell_type": "code",
   "execution_count": 14,
   "id": "f744cb28",
   "metadata": {},
   "outputs": [
    {
     "name": "stdout",
     "output_type": "stream",
     "text": [
      "not leap\n"
     ]
    }
   ],
   "source": [
    "#   Check if a year is a leap year.\n",
    "year = 2025\n",
    "if year%4==0 and year%100!=0 or year%400==0 :\n",
    "    print(\"leap year\")\n",
    "else :\n",
    "    print(\"not leap\")"
   ]
  },
  {
   "cell_type": "code",
   "execution_count": null,
   "id": "d0f811b9",
   "metadata": {},
   "outputs": [
    {
     "name": "stdout",
     "output_type": "stream",
     "text": [
      "2\n",
      "4\n",
      "6\n",
      "8\n",
      "10\n",
      "12\n",
      "14\n",
      "16\n",
      "18\n",
      "20\n"
     ]
    }
   ],
   "source": [
    "#   even numbers from 2 to 20 using a for loop and range()\n",
    "\n",
    "num = 2\n",
    "for i in range(2, 22, 2) :\n",
    "    print(i)"
   ]
  },
  {
   "cell_type": "code",
   "execution_count": null,
   "id": "d7f202eb",
   "metadata": {},
   "outputs": [
    {
     "name": "stdout",
     "output_type": "stream",
     "text": [
      "789\n"
     ]
    }
   ],
   "source": [
    "#   Reverse a number (e.g., input: 987 → output: 789)\n",
    "\n",
    "num = 987\n",
    "reversed_num = 0\n",
    "while num > 0 : \n",
    "    digit = num%10     # 7                  # Get the last digit\n",
    "    reversed_num = reversed_num*10 + digit     # 7             # Append digit to reversed number\n",
    "    num = num//10    # 98           # Remove the last digit\n",
    "print(reversed_num)\n",
    "\n",
    "\n"
   ]
  },
  {
   "cell_type": "code",
   "execution_count": 28,
   "id": "3113f24b",
   "metadata": {},
   "outputs": [
    {
     "name": "stdout",
     "output_type": "stream",
     "text": [
      "121\n"
     ]
    }
   ],
   "source": [
    "num = 121\n",
    "reversed = 0\n",
    "while num > 0 :\n",
    "    digit = num%10    # 1\n",
    "    reversed = reversed*10+digit   #1\n",
    "    num = num//10    # 12\n",
    "print(reversed)\n"
   ]
  },
  {
   "cell_type": "code",
   "execution_count": null,
   "id": "3b169371",
   "metadata": {},
   "outputs": [
    {
     "name": "stdout",
     "output_type": "stream",
     "text": [
      "olleh\n"
     ]
    }
   ],
   "source": [
    "word = \"hello\"\n",
    "reversed_word = word[::-1]       # [start, stop, step]\n",
    "print(reversed_word)"
   ]
  },
  {
   "cell_type": "code",
   "execution_count": 33,
   "id": "c37277d8",
   "metadata": {},
   "outputs": [
    {
     "name": "stdout",
     "output_type": "stream",
     "text": [
      "321\n"
     ]
    }
   ],
   "source": [
    "num = 123\n",
    "reversed_num = str(num)[::-1]\n",
    "print(reversed_num)"
   ]
  },
  {
   "cell_type": "code",
   "execution_count": 47,
   "id": "405c5d07",
   "metadata": {},
   "outputs": [
    {
     "name": "stdout",
     "output_type": "stream",
     "text": [
      "8\n"
     ]
    }
   ],
   "source": [
    "#    Count the number of vowels in a string\n",
    "\n",
    "text = \"My name is Saloni Goyal\"\n",
    "vowels = \"aeiouAEIOU\"\n",
    "count = 0\n",
    "for char in text :\n",
    "    if char in vowels :\n",
    "        count += 1\n",
    "print(count)     \n"
   ]
  },
  {
   "cell_type": "code",
   "execution_count": 52,
   "id": "f4fa78dc",
   "metadata": {},
   "outputs": [
    {
     "name": "stdout",
     "output_type": "stream",
     "text": [
      "Palindrome\n"
     ]
    }
   ],
   "source": [
    "word = \"racecar\"\n",
    "reversed_word = word[::-1]\n",
    "if word == reversed_word :\n",
    "    print(\"Palindrome\")\n",
    "else :\n",
    "    print(\"Not Palindrome\")"
   ]
  },
  {
   "cell_type": "code",
   "execution_count": null,
   "id": "ae46de21",
   "metadata": {},
   "outputs": [
    {
     "name": "stdout",
     "output_type": "stream",
     "text": [
      "AEIOU\n"
     ]
    }
   ],
   "source": [
    "#    convert the string to uppercase.\n",
    "\n",
    "vowel = \"aeiou\"\n",
    "print(vowel.upper())"
   ]
  }
 ],
 "metadata": {
  "kernelspec": {
   "display_name": "Python 3",
   "language": "python",
   "name": "python3"
  },
  "language_info": {
   "codemirror_mode": {
    "name": "ipython",
    "version": 3
   },
   "file_extension": ".py",
   "mimetype": "text/x-python",
   "name": "python",
   "nbconvert_exporter": "python",
   "pygments_lexer": "ipython3",
   "version": "3.10.0"
  }
 },
 "nbformat": 4,
 "nbformat_minor": 5
}
