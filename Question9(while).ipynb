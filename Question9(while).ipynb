{
 "cells": [
  {
   "cell_type": "code",
   "execution_count": 24,
   "id": "8d5f95f2",
   "metadata": {},
   "outputs": [
    {
     "name": "stdout",
     "output_type": "stream",
     "text": [
      "1\n",
      "2\n",
      "3\n",
      "4\n",
      "5\n",
      "6\n",
      "7\n",
      "8\n",
      "9\n",
      "10\n"
     ]
    }
   ],
   "source": [
    "#  Print no. from 1 to 10\n",
    "\n",
    "count = 1\n",
    "while count<=10 :\n",
    "    print(count)\n",
    "    count += 1"
   ]
  },
  {
   "cell_type": "code",
   "execution_count": 31,
   "id": "86297da0",
   "metadata": {},
   "outputs": [
    {
     "name": "stdout",
     "output_type": "stream",
     "text": [
      "10\n",
      "9\n",
      "8\n",
      "7\n",
      "6\n",
      "5\n",
      "4\n",
      "3\n",
      "2\n",
      "1\n"
     ]
    }
   ],
   "source": [
    "#  Print no. from 10 to 1\n",
    "\n",
    "count = 10\n",
    "while count>=1 :\n",
    "    print(count)\n",
    "    count -= 1"
   ]
  },
  {
   "cell_type": "code",
   "execution_count": 9,
   "id": "adb9e96f",
   "metadata": {},
   "outputs": [
    {
     "name": "stdout",
     "output_type": "stream",
     "text": [
      "3\n",
      "6\n",
      "9\n",
      "12\n",
      "15\n",
      "18\n",
      "21\n",
      "24\n",
      "27\n",
      "30\n"
     ]
    }
   ],
   "source": [
    "#  Print the multiplication table of a no. n\n",
    "\n",
    "count = 1\n",
    "n = 3\n",
    "while count<=10 :\n",
    "    print(n*count)\n",
    "    count+=1\n"
   ]
  },
  {
   "cell_type": "code",
   "execution_count": 27,
   "id": "f242b37d",
   "metadata": {},
   "outputs": [
    {
     "name": "stdout",
     "output_type": "stream",
     "text": [
      "1\n",
      "4\n",
      "9\n",
      "16\n",
      "25\n",
      "36\n",
      "49\n",
      "64\n",
      "81\n",
      "100\n"
     ]
    }
   ],
   "source": [
    "#  Print the elements of the following list using a loop :\n",
    "#  [1, 4, 9, 16, 25, 36, 49, 64, 81, 100]\n",
    "\n",
    "nums = [1, 4, 9, 16, 25, 36, 49, 64, 81, 100]\n",
    "idx = 0\n",
    "while idx < len(nums) :\n",
    "    print(nums[idx])\n",
    "    idx += 1"
   ]
  },
  {
   "cell_type": "code",
   "execution_count": 1,
   "id": "d280d406",
   "metadata": {},
   "outputs": [
    {
     "name": "stdout",
     "output_type": "stream",
     "text": [
      "1\n",
      "4\n",
      "9\n",
      "16\n",
      "25\n",
      "36\n",
      "49\n",
      "64\n",
      "81\n",
      "100\n"
     ]
    }
   ],
   "source": [
    "list = [1, 4, 9, 16, 25, 36, 49, 64, 81, 100]\n",
    "for num in list:\n",
    "    print(num)"
   ]
  },
  {
   "cell_type": "code",
   "execution_count": 4,
   "id": "db4d1a59",
   "metadata": {},
   "outputs": [
    {
     "name": "stdout",
     "output_type": "stream",
     "text": [
      "1\n",
      "4\n",
      "9\n",
      "16\n",
      "25\n",
      "36\n",
      "49\n",
      "64\n",
      "81\n",
      "100\n"
     ]
    }
   ],
   "source": [
    "list = [1, 4, 9, 16, 25, 36, 49, 64, 81, 100]\n",
    "for num in range(1, 11):\n",
    "    print(num*num)"
   ]
  },
  {
   "cell_type": "code",
   "execution_count": 5,
   "id": "b855cd6a",
   "metadata": {},
   "outputs": [
    {
     "name": "stdout",
     "output_type": "stream",
     "text": [
      "Found x at idx :  5\n"
     ]
    }
   ],
   "source": [
    "#  Search for a no. x in this tuple using loop :\n",
    "#  (1, 4, 9, 16, 25, 36, 49, 64, 81, 100)\n",
    "\n",
    "nums = (1, 4, 9, 16, 25, 36, 49, 64, 81, 100)\n",
    "idx = 0\n",
    "x = 36\n",
    "while idx < len(nums) :\n",
    "    if(nums[idx] == x) :\n",
    "        print(\"Found x at idx : \", idx)\n",
    "    idx += 1"
   ]
  },
  {
   "cell_type": "code",
   "execution_count": 6,
   "id": "10ab7ff3",
   "metadata": {},
   "outputs": [
    {
     "name": "stdout",
     "output_type": "stream",
     "text": [
      "finding\n",
      "finding\n",
      "finding\n",
      "finding\n",
      "finding\n",
      "found at :  5\n",
      "finding\n",
      "finding\n",
      "finding\n",
      "finding\n",
      "found at :  10\n"
     ]
    }
   ],
   "source": [
    "nums = (1, 4, 9, 16, 25, 36, 49, 64, 81, 100,36)\n",
    "idx = 0\n",
    "x = 36\n",
    "\n",
    "\n",
    "while idx < len(nums) :\n",
    "    if(nums[idx] == x) :\n",
    "        print(\"found at : \", idx)\n",
    "    else :\n",
    "        print(\"finding\")\n",
    "    idx += 1"
   ]
  }
 ],
 "metadata": {
  "kernelspec": {
   "display_name": "Python 3",
   "language": "python",
   "name": "python3"
  },
  "language_info": {
   "codemirror_mode": {
    "name": "ipython",
    "version": 3
   },
   "file_extension": ".py",
   "mimetype": "text/x-python",
   "name": "python",
   "nbconvert_exporter": "python",
   "pygments_lexer": "ipython3",
   "version": "3.10.0"
  }
 },
 "nbformat": 4,
 "nbformat_minor": 5
}
