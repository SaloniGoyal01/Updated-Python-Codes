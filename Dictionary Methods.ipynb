{
 "cells": [
  {
   "cell_type": "code",
   "execution_count": 2,
   "id": "3824cdab",
   "metadata": {},
   "outputs": [
    {
     "name": "stdout",
     "output_type": "stream",
     "text": [
      "dict_keys(['Name', 'Score', 'Age'])\n",
      "dict_keys(['C', 'C++', 'Python'])\n"
     ]
    }
   ],
   "source": [
    "Student = {\n",
    "    \"Name\" : \"Saloni\",\n",
    "    \"Score\" : {\n",
    "        \"C\" : 98,\n",
    "        \"C++\" : 95,\n",
    "        \"Python\" : 97\n",
    "    },\n",
    "    \"Age\" : 19\n",
    "}\n",
    "print(Student.keys())\n",
    "print(Student[\"Score\"].keys())"
   ]
  },
  {
   "cell_type": "code",
   "execution_count": 5,
   "id": "6693392d",
   "metadata": {},
   "outputs": [
    {
     "name": "stdout",
     "output_type": "stream",
     "text": [
      "dict_values(['Saloni', {'C': 98, 'C++': 95, 'Python': 97}, 19])\n",
      "dict_values([98, 95, 97])\n"
     ]
    }
   ],
   "source": [
    "Student = {\n",
    "    \"Name\" : \"Saloni\",\n",
    "    \"Score\" : {\n",
    "        \"C\" : 98,\n",
    "        \"C++\" : 95,\n",
    "        \"Python\" : 97\n",
    "    },\n",
    "    \"Age\" : 19\n",
    "}\n",
    "print(Student.values())\n",
    "print(Student[\"Score\"].values())"
   ]
  },
  {
   "cell_type": "code",
   "execution_count": null,
   "id": "bafdff0f",
   "metadata": {},
   "outputs": [
    {
     "name": "stdout",
     "output_type": "stream",
     "text": [
      "['Name', 'Score', 'Age']\n"
     ]
    }
   ],
   "source": [
    "#  TypeCasting :-    converting the data type of a variable into another data type.\n",
    "\n",
    "Student = {\n",
    "    \"Name\" : \"Saloni\",\n",
    "    \"Score\" : {\n",
    "        \"C\" : 98,\n",
    "        \"C++\" : 95,\n",
    "        \"Python\" : 97\n",
    "    },\n",
    "    \"Age\" : 19\n",
    "}\n",
    "print(list(Student.keys()))"
   ]
  },
  {
   "cell_type": "code",
   "execution_count": 8,
   "id": "98cf6328",
   "metadata": {},
   "outputs": [
    {
     "name": "stdout",
     "output_type": "stream",
     "text": [
      "3\n",
      "3\n"
     ]
    }
   ],
   "source": [
    "Student = {\n",
    "    \"Name\" : \"Saloni\",\n",
    "    \"Score\" : {\n",
    "        \"C\" : 98,\n",
    "        \"C++\" : 95,\n",
    "        \"Python\" : 97\n",
    "    },\n",
    "    \"Age\" : 19\n",
    "}\n",
    "print(len(Student))\n",
    "print(len(list(Student.keys())))"
   ]
  },
  {
   "cell_type": "code",
   "execution_count": 9,
   "id": "2aba155b",
   "metadata": {},
   "outputs": [
    {
     "name": "stdout",
     "output_type": "stream",
     "text": [
      "[('Name', 'Saloni'), ('Age', 19), ('Branch', 'CS')]\n"
     ]
    }
   ],
   "source": [
    "Student = {\n",
    "    \"Name\" : \"Saloni\",\n",
    "    \"Age\" : 19,\n",
    "    \"Branch\" : \"CS\"\n",
    "}\n",
    "print(list(Student.items()))"
   ]
  },
  {
   "cell_type": "code",
   "execution_count": 11,
   "id": "58a7cccb",
   "metadata": {},
   "outputs": [
    {
     "name": "stdout",
     "output_type": "stream",
     "text": [
      "[('Name', 'Saloni'), ('Age', 19), ('Branch', 'CS')]\n",
      "('Name', 'Saloni')\n",
      "('Branch', 'CS')\n"
     ]
    }
   ],
   "source": [
    "Student = {\n",
    "    \"Name\" : \"Saloni\",\n",
    "    \"Age\" : 19,\n",
    "    \"Branch\" : \"CS\"\n",
    "}\n",
    "pairs = list(Student.items())\n",
    "print(pairs)\n",
    "print(pairs[0])\n",
    "print(pairs[2])"
   ]
  },
  {
   "cell_type": "code",
   "execution_count": null,
   "id": "31420fbc",
   "metadata": {},
   "outputs": [
    {
     "name": "stdout",
     "output_type": "stream",
     "text": [
      "None\n",
      "19\n"
     ]
    }
   ],
   "source": [
    "Student = {\n",
    "    \"Name\" : \"Saloni\",\n",
    "    \"Age\" : 19,\n",
    "    \"Branch\" : \"CS\"\n",
    "}\n",
    "# print(Student[\"Age1\"])     # Error\n",
    "print(Student.get(\"Age1\"))   # None\n",
    "print(Student.get(\"Age\"))   "
   ]
  },
  {
   "cell_type": "code",
   "execution_count": 19,
   "id": "3ceaf82c",
   "metadata": {},
   "outputs": [
    {
     "name": "stdout",
     "output_type": "stream",
     "text": [
      "{'Name': 'Harsh', 'Age': 23, 'Branch': 'CS'}\n"
     ]
    }
   ],
   "source": [
    "Student1 = {\n",
    "    \"Name\" : \"Saloni\",\n",
    "    \"Age\" : 19,\n",
    "    \"Branch\" : \"CS\"\n",
    "}\n",
    "\n",
    "Student2 = {\n",
    "    \"Name\" : \"Harsh\",\n",
    "    \"Age\" : 23,\n",
    "    \"Branch\" : \"CS\"\n",
    "}\n",
    "Student1.update(Student2)\n",
    "print(Student1)"
   ]
  }
 ],
 "metadata": {
  "kernelspec": {
   "display_name": "Python 3",
   "language": "python",
   "name": "python3"
  },
  "language_info": {
   "codemirror_mode": {
    "name": "ipython",
    "version": 3
   },
   "file_extension": ".py",
   "mimetype": "text/x-python",
   "name": "python",
   "nbconvert_exporter": "python",
   "pygments_lexer": "ipython3",
   "version": "3.10.0"
  }
 },
 "nbformat": 4,
 "nbformat_minor": 5
}
