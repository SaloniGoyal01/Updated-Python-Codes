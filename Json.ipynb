{
 "cells": [
  {
   "cell_type": "code",
   "execution_count": 15,
   "id": "abf6a3e8",
   "metadata": {},
   "outputs": [
    {
     "name": "stdout",
     "output_type": "stream",
     "text": [
      "Saloni\n",
      "19\n",
      "Jaipur\n",
      "{'name': 'Saloni', 'age': 19, 'city': 'Jaipur'}\n",
      "<class 'dict'>\n",
      "<class 'str'>\n"
     ]
    }
   ],
   "source": [
    "#  Parse JSON - Convert from JSON to Python\n",
    "#  If you have a JSON string, you can parse it by using the json.loads() method.\n",
    "\n",
    "import json      # # Import the json module to work with JSON data   \n",
    "x = '{\"name\": \"Saloni\", \"age\": 19, \"city\": \"Jaipur\"}'       # This is a JSON string (a common data format)\n",
    "y = json.loads(x)      # Convert the JSON string into a Python dictionary\n",
    "print(y[\"name\"])\n",
    "print(y[\"age\"])\n",
    "print(y[\"city\"])\n",
    "print(y)  # Print the entire dictionary to see all the data\n",
    "print(type(y))  # Print the type of y to confirm it's a dictionary\n",
    "print(type(x))  # Print the type of x to confirm it's a string"
   ]
  },
  {
   "cell_type": "code",
   "execution_count": 18,
   "id": "5ce3c634",
   "metadata": {},
   "outputs": [
    {
     "name": "stdout",
     "output_type": "stream",
     "text": [
      "{\"name\": \"Saloni\", \"age\": 19, \"city\": \"Jaipur\"}\n",
      "<class 'str'>\n",
      "<class 'dict'>\n"
     ]
    }
   ],
   "source": [
    "# Convert from Python to JSON\n",
    "# If you have a Python object, you can convert it into a JSON string by using the json.dumps() method.\n",
    "\n",
    "import json\n",
    "x = {\n",
    "    \"name\" : \"Saloni\",\n",
    "    \"age\": 19,\n",
    "    \"city\": \"Jaipur\"\n",
    "}\n",
    "y = json.dumps(x)      # Convert the Python dictionary into a JSON string\n",
    "print(y)  # Print the JSON string to see the data in JSON format\n",
    "print(type(y))  # Print the type to confirm it's a string\n",
    "print(type(x))  # Print the type of x to confirm it's a dictionary\n"
   ]
  },
  {
   "cell_type": "code",
   "execution_count": 25,
   "id": "ea1ca770",
   "metadata": {},
   "outputs": [
    {
     "name": "stdout",
     "output_type": "stream",
     "text": [
      "{\"name\": \"Saloni\", \"age\": 19}\n",
      "[\"Saloni\", \"is\", \"19\", \"years\", \"old\"]\n",
      "[\"apple\", \"bannana\"]\n",
      "[\"apple\", \"banana\"]\n",
      "\"Hello\"\n",
      "\"Hello\"\n",
      "100\n",
      "[100, 200]\n",
      "[true, false]\n",
      "null\n"
     ]
    }
   ],
   "source": [
    "#   Convert Python objects into JSON strings, and print the values:\n",
    "\n",
    "import json\n",
    "\n",
    "print(json.dumps({\"name\": \"Saloni\", \"age\": 19}))\n",
    "print(json.dumps([\"Saloni\", \"is\", \"19\", \"years\", \"old\"]))\n",
    "print(json.dumps([\"apple\", \"bannana\"]))\n",
    "print(json.dumps((\"apple\", \"banana\")))\n",
    "print(json.dumps((\"Hello\")))\n",
    "print(json.dumps(\"Hello\"))\n",
    "print(json.dumps(100))\n",
    "print(json.dumps((100, 200)))\n",
    "print(json.dumps((True, False)))\n",
    "print(json.dumps(None))  # Convert None to JSON, which will be represented as null in JSON"
   ]
  },
  {
   "cell_type": "code",
   "execution_count": 32,
   "id": "5b237271",
   "metadata": {},
   "outputs": [
    {
     "name": "stdout",
     "output_type": "stream",
     "text": [
      "{\"name\": \"John\", \"age\": 20, \"is_Student\": true, \"is_Employee\": false, \"Course\": [\"Python\", \"Java\"], \"marks\": [98, 95, 93], \"address\": {\"street\": \"123 Main St\", \"city\": \"New York\", \"state\": \"NY\"}, \"pets\": null, \"car\": [{\"model\": \"BMW\", \"year\": 2020}, {\"model\": \"Audi\", \"year\": 2021}]}\n"
     ]
    }
   ],
   "source": [
    "#   Convert a Python object containing all the legal data types:\n",
    "\n",
    "import json\n",
    "x = {\n",
    "    \"name\": \"John\",\n",
    "    \"age\": 20,\n",
    "    \"is_Student\": True,\n",
    "    \"is_Employee\": False,\n",
    "    \"Course\": (\"Python\", \"Java\"),\n",
    "    \"marks\": [98, 95, 93],\n",
    "    \"address\": {\n",
    "        \"street\": \"123 Main St\",\n",
    "        \"city\": \"New York\",\n",
    "        \"state\": \"NY\"\n",
    "    },\n",
    "    \"pets\": None,\n",
    "    \"car\": [\n",
    "        { \"model\": \"BMW\", \"year\": 2020 },\n",
    "        { \"model\": \"Audi\", \"year\": 2021 }\n",
    "    ]\n",
    "}\n",
    "\n",
    "y = json.dumps(x)    # By default, json.dumps() returns the output as a single-line JSON string — because that's how JSON is usually transferred over networks: compact and fast.\n",
    "print(y)"
   ]
  },
  {
   "cell_type": "code",
   "execution_count": null,
   "id": "d6413906",
   "metadata": {},
   "outputs": [
    {
     "name": "stdout",
     "output_type": "stream",
     "text": [
      "{\n",
      "    \"name\": \"John\",\n",
      "    \"age\": 20,\n",
      "    \"is_Student\": true,\n",
      "    \"is_Employee\": false,\n",
      "    \"Course\": [\n",
      "        \"Python\",\n",
      "        \"Java\"\n",
      "    ],\n",
      "    \"marks\": [\n",
      "        98,\n",
      "        95,\n",
      "        93\n",
      "    ],\n",
      "    \"address\": {\n",
      "        \"street\": \"123 Main St\",\n",
      "        \"city\": \"New York\",\n",
      "        \"state\": \"NY\"\n",
      "    },\n",
      "    \"pets\": null,\n",
      "    \"car\": [\n",
      "        {\n",
      "            \"model\": \"BMW\",\n",
      "            \"year\": 2020\n",
      "        },\n",
      "        {\n",
      "            \"model\": \"Audi\",\n",
      "            \"year\": 2021\n",
      "        }\n",
      "    ]\n",
      "}\n"
     ]
    }
   ],
   "source": [
    "#   Convert a Python object containing all the legal data types:\n",
    "\n",
    "import json\n",
    "x = {\n",
    "    \"name\": \"John\",\n",
    "    \"age\": 20,\n",
    "    \"is_Student\": True,\n",
    "    \"is_Employee\": False,\n",
    "    \"Course\": (\"Python\", \"Java\"),\n",
    "    \"marks\": [98, 95, 93],\n",
    "    \"address\": {\n",
    "        \"street\": \"123 Main St\",\n",
    "        \"city\": \"New York\",\n",
    "        \"state\": \"NY\"\n",
    "    },\n",
    "    \"pets\": None,\n",
    "    \"car\": [\n",
    "        { \"model\": \"BMW\", \"year\": 2020 },\n",
    "        { \"model\": \"Audi\", \"year\": 2021 }\n",
    "    ]\n",
    "}\n",
    "\n",
    "y = json.dumps(x, indent=4)   # With indent=4 -> Output is in a pretty, readable format, Makes JSON easy to read and understand, Useful for debugging or saving JSON to files for humans\n",
    "#  Indent each level by 4 spaces (you can also use indent=2, etc.)\n",
    "print(y)"
   ]
  },
  {
   "cell_type": "code",
   "execution_count": 34,
   "id": "fa182d55",
   "metadata": {},
   "outputs": [
    {
     "name": "stdout",
     "output_type": "stream",
     "text": [
      "{\n",
      "    \"name\" = \"John\". \n",
      "    \"age\" = 30. \n",
      "    \"married\" = true. \n",
      "    \"divorced\" = false. \n",
      "    \"children\" = [\n",
      "        \"Ann\". \n",
      "        \"Billy\"\n",
      "    ]. \n",
      "    \"pets\" = null. \n",
      "    \"cars\" = [\n",
      "        {\n",
      "            \"model\" = \"BMW 230\". \n",
      "            \"mpg\" = 27.5\n",
      "        }. \n",
      "        {\n",
      "            \"model\" = \"Ford Edge\". \n",
      "            \"mpg\" = 24.1\n",
      "        }\n",
      "    ]\n",
      "}\n"
     ]
    }
   ],
   "source": [
    "import json  # Import the json module to work with JSON data\n",
    "\n",
    "# Create a Python dictionary with multiple data types\n",
    "x = {\n",
    "  \"name\": \"John\",                  # String\n",
    "  \"age\": 30,                       # Integer\n",
    "  \"married\": True,                # Boolean (True)\n",
    "  \"divorced\": False,              # Boolean (False)\n",
    "  \"children\": (\"Ann\", \"Billy\"),   # Tuple (converted to list in JSON)\n",
    "  \"pets\": None,                   # None (converted to null in JSON)\n",
    "  \"cars\": [                       # List of dictionaries\n",
    "    {\"model\": \"BMW 230\", \"mpg\": 27.5},\n",
    "    {\"model\": \"Ford Edge\", \"mpg\": 24.1}\n",
    "  ]\n",
    "}\n",
    "\n",
    "# Convert the Python object to a JSON string with:\n",
    "# - indent=4 → pretty formatting (4-space indentation)\n",
    "# - separators=(\". \", \" = \") → custom formatting:\n",
    "#   \". \" between items and \" = \" between key and value\n",
    "y = json.dumps(x, indent=4, separators=(\". \", \" = \"))\n",
    "\n",
    "# Print the formatted JSON string\n",
    "print(y)\n"
   ]
  },
  {
   "cell_type": "code",
   "execution_count": 35,
   "id": "275a90f6",
   "metadata": {},
   "outputs": [
    {
     "name": "stdout",
     "output_type": "stream",
     "text": [
      "{\n",
      "    \"age\": 30,\n",
      "    \"cars\": [\n",
      "        {\n",
      "            \"model\": \"BMW 230\",\n",
      "            \"mpg\": 27.5\n",
      "        },\n",
      "        {\n",
      "            \"model\": \"Ford Edge\",\n",
      "            \"mpg\": 24.1\n",
      "        }\n",
      "    ],\n",
      "    \"children\": [\n",
      "        \"Ann\",\n",
      "        \"Billy\"\n",
      "    ],\n",
      "    \"divorced\": false,\n",
      "    \"married\": true,\n",
      "    \"name\": \"John\",\n",
      "    \"pets\": null\n",
      "}\n"
     ]
    }
   ],
   "source": [
    "import json\n",
    "\n",
    "x = {\n",
    "  \"name\": \"John\",\n",
    "  \"age\": 30,\n",
    "  \"married\": True,\n",
    "  \"divorced\": False,\n",
    "  \"children\": (\"Ann\", \"Billy\"),\n",
    "  \"pets\": None,\n",
    "  \"cars\": [\n",
    "    {\"model\": \"BMW 230\", \"mpg\": 27.5},\n",
    "    {\"model\": \"Ford Edge\", \"mpg\": 24.1}\n",
    "  ]\n",
    "}\n",
    "\n",
    "# Convert to JSON string with:\n",
    "# - indent=4 for pretty format\n",
    "# - sort_keys=True to sort keys alphabetically\n",
    "print(json.dumps(x, indent=4, sort_keys=True))\n"
   ]
  }
 ],
 "metadata": {
  "kernelspec": {
   "display_name": "Python 3",
   "language": "python",
   "name": "python3"
  },
  "language_info": {
   "codemirror_mode": {
    "name": "ipython",
    "version": 3
   },
   "file_extension": ".py",
   "mimetype": "text/x-python",
   "name": "python",
   "nbconvert_exporter": "python",
   "pygments_lexer": "ipython3",
   "version": "3.10.0"
  }
 },
 "nbformat": 4,
 "nbformat_minor": 5
}
