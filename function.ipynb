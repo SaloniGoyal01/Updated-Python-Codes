{
 "cells": [
  {
   "cell_type": "code",
   "execution_count": null,
   "id": "3cb6891b",
   "metadata": {},
   "outputs": [
    {
     "name": "stdout",
     "output_type": "stream",
     "text": [
      "5\n",
      "9\n"
     ]
    }
   ],
   "source": [
    "#  function definition\n",
    "def sum(a, b) :     # a,b -> parameters\n",
    "    sum = a+b\n",
    "    # print(sum)\n",
    "    return sum\n",
    "#  function call\n",
    "print(sum(2, 3))    # 2,3 -> arguments\n",
    "print(sum(4, 5))"
   ]
  },
  {
   "cell_type": "code",
   "execution_count": 13,
   "id": "d23c606f",
   "metadata": {},
   "outputs": [
    {
     "name": "stdout",
     "output_type": "stream",
     "text": [
      "6\n",
      "9\n"
     ]
    }
   ],
   "source": [
    "def sum(a, b, c) :\n",
    "    return a+b+c\n",
    "print(sum(1, 2, 3))\n",
    "print(sum(2, 3, 4))"
   ]
  },
  {
   "cell_type": "code",
   "execution_count": 17,
   "id": "c670d665",
   "metadata": {},
   "outputs": [
    {
     "name": "stdout",
     "output_type": "stream",
     "text": [
      "3.3333333333333335\n",
      "4.0\n"
     ]
    }
   ],
   "source": [
    "#   Avg. of 3 no.\n",
    "def avg(a, b, c) :\n",
    "    return (a+b+c)/3\n",
    "print(avg(2,3,5))\n",
    "print(avg(3.5,4.5,4))"
   ]
  },
  {
   "cell_type": "code",
   "execution_count": 22,
   "id": "d1b8d2e9",
   "metadata": {},
   "outputs": [
    {
     "name": "stdout",
     "output_type": "stream",
     "text": [
      "3.0\n",
      "3.0\n",
      "3.0\n"
     ]
    }
   ],
   "source": [
    "#   Avg. of 3 no.\n",
    "def cal_avg(a, b, c) :\n",
    "    sum = a+b+c \n",
    "    avg = sum / 3\n",
    "    return avg\n",
    "print(cal_avg(2, 3, 4))\n",
    "print(cal_avg(2.0, 3.0, 4))\n",
    "print(cal_avg(2.0, 3.0, 4.0))"
   ]
  }
 ],
 "metadata": {
  "kernelspec": {
   "display_name": "Python 3",
   "language": "python",
   "name": "python3"
  },
  "language_info": {
   "codemirror_mode": {
    "name": "ipython",
    "version": 3
   },
   "file_extension": ".py",
   "mimetype": "text/x-python",
   "name": "python",
   "nbconvert_exporter": "python",
   "pygments_lexer": "ipython3",
   "version": "3.10.0"
  }
 },
 "nbformat": 4,
 "nbformat_minor": 5
}
