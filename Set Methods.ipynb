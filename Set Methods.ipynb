{
 "cells": [
  {
   "cell_type": "code",
   "execution_count": 1,
   "id": "4771ad08",
   "metadata": {},
   "outputs": [
    {
     "name": "stdout",
     "output_type": "stream",
     "text": [
      "{1, 4}\n"
     ]
    }
   ],
   "source": [
    "collection = set()\n",
    "collection.add(1)\n",
    "collection.add(4)\n",
    "print(collection)"
   ]
  },
  {
   "cell_type": "code",
   "execution_count": 7,
   "id": "ba9f3d21",
   "metadata": {},
   "outputs": [
    {
     "name": "stdout",
     "output_type": "stream",
     "text": [
      "{(1, 2, 3), 'hello'}\n",
      "2\n"
     ]
    }
   ],
   "source": [
    "collection = set()\n",
    "collection.add(\"hello\")\n",
    "collection.add((1,2,3))\n",
    "print(collection)\n",
    "print(len(collection))"
   ]
  },
  {
   "cell_type": "code",
   "execution_count": 8,
   "id": "ef10bf50",
   "metadata": {},
   "outputs": [
    {
     "name": "stdout",
     "output_type": "stream",
     "text": [
      "{2}\n"
     ]
    }
   ],
   "source": [
    "collection = set()\n",
    "collection.add(1)\n",
    "collection.add(2)\n",
    "collection.remove(1)\n",
    "print(collection)"
   ]
  },
  {
   "cell_type": "code",
   "execution_count": 11,
   "id": "028dab66",
   "metadata": {},
   "outputs": [
    {
     "name": "stdout",
     "output_type": "stream",
     "text": [
      "{(1, 2, 3), 'hello'}\n",
      "set()\n",
      "0\n"
     ]
    }
   ],
   "source": [
    "collection = set()\n",
    "collection.add(\"hello\")\n",
    "collection.add((1,2,3))\n",
    "print(collection)\n",
    "collection.clear()\n",
    "print(collection)\n",
    "print(len(collection))"
   ]
  },
  {
   "cell_type": "code",
   "execution_count": null,
   "id": "2c3f0c5d",
   "metadata": {},
   "outputs": [
    {
     "name": "stdout",
     "output_type": "stream",
     "text": [
      "section\n",
      "name\n"
     ]
    }
   ],
   "source": [
    "#  set.pop() method removes and returns a random element from the set\n",
    "collection = {\n",
    "    \"name\", \"class\", \"branch\", \"section\", \"rollNo\", \"clg\"\n",
    "}\n",
    "print(collection.pop())\n",
    "print(collection.pop())"
   ]
  },
  {
   "cell_type": "code",
   "execution_count": 23,
   "id": "0a121834",
   "metadata": {},
   "outputs": [
    {
     "name": "stdout",
     "output_type": "stream",
     "text": [
      "{1, 2, 3, 4}\n",
      "{1, 2, 3}\n",
      "{2, 3, 4}\n"
     ]
    }
   ],
   "source": [
    "set1 = {1,2,3}\n",
    "set2 = {2,3,4}\n",
    "print(set1.union(set2))\n",
    "print(set1)\n",
    "print(set2)"
   ]
  },
  {
   "cell_type": "code",
   "execution_count": 26,
   "id": "b9dc9a36",
   "metadata": {},
   "outputs": [
    {
     "name": "stdout",
     "output_type": "stream",
     "text": [
      "{1, 2, 3, 4, 5, 6}\n"
     ]
    }
   ],
   "source": [
    "set1 = {1,2,3}\n",
    "set2 = {2,3,4}\n",
    "set3 = {3,4,5}\n",
    "set4 = {4,5,6}\n",
    "print(set1.union(set2).union(set3).union(set4))"
   ]
  },
  {
   "cell_type": "code",
   "execution_count": 28,
   "id": "a8e4d6a0",
   "metadata": {},
   "outputs": [
    {
     "name": "stdout",
     "output_type": "stream",
     "text": [
      "{2, 3}\n",
      "{1, 2, 3}\n",
      "{2, 3, 4}\n"
     ]
    }
   ],
   "source": [
    "set1 = {1,2,3}\n",
    "set2 = {2,3,4}\n",
    "print(set1.intersection(set2))\n",
    "print(set1)\n",
    "print(set2)"
   ]
  },
  {
   "cell_type": "code",
   "execution_count": 30,
   "id": "a84647bc",
   "metadata": {},
   "outputs": [
    {
     "name": "stdout",
     "output_type": "stream",
     "text": [
      "{3}\n"
     ]
    }
   ],
   "source": [
    "set1 = {1,2,3}\n",
    "set2 = {2,3,4}\n",
    "set3 = {3,4,5}\n",
    "set4 = {3,5,6}\n",
    "print(set1.intersection(set2).intersection(set3).intersection(set4))"
   ]
  }
 ],
 "metadata": {
  "kernelspec": {
   "display_name": "Python 3",
   "language": "python",
   "name": "python3"
  },
  "language_info": {
   "codemirror_mode": {
    "name": "ipython",
    "version": 3
   },
   "file_extension": ".py",
   "mimetype": "text/x-python",
   "name": "python",
   "nbconvert_exporter": "python",
   "pygments_lexer": "ipython3",
   "version": "3.10.0"
  }
 },
 "nbformat": 4,
 "nbformat_minor": 5
}
