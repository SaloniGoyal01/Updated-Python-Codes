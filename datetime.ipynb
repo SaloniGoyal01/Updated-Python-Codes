{
 "cells": [
  {
   "cell_type": "code",
   "execution_count": null,
   "id": "8cf1773f",
   "metadata": {},
   "outputs": [
    {
     "name": "stdout",
     "output_type": "stream",
     "text": [
      "2025-07-10 21:29:25.691482\n"
     ]
    }
   ],
   "source": [
    "import datetime            # This imports the datetime module, which is used for working with dates and times in Python\n",
    "x = datetime.datetime.now()\n",
    "print(x)"
   ]
  },
  {
   "cell_type": "code",
   "execution_count": 42,
   "id": "a5e24f4f",
   "metadata": {},
   "outputs": [
    {
     "name": "stdout",
     "output_type": "stream",
     "text": [
      "<class 'datetime.datetime'>\n",
      "2025-07-10 21:53:13.427310\n"
     ]
    }
   ],
   "source": [
    "import datetime\n",
    "x = datetime.datetime\n",
    "print(x)\n",
    "print(x.now())"
   ]
  },
  {
   "cell_type": "code",
   "execution_count": 43,
   "id": "27b3cb98",
   "metadata": {},
   "outputs": [
    {
     "name": "stdout",
     "output_type": "stream",
     "text": [
      "2025\n",
      "7\n",
      "10\n",
      "21\n",
      "53\n",
      "13\n"
     ]
    }
   ],
   "source": [
    "import datetime\n",
    "x = datetime.datetime.now()\n",
    "print(x.year)\n",
    "print(x.month)\n",
    "print(x.day)\n",
    "print(x.hour)        #  Prints the hour (0 to 23 in 24-hour format)\n",
    "print(x.minute)      #  Prints the minute part of the time (0 to 59)\n",
    "print(x.second)      #  Prints the second part of the time (0 to 59)"
   ]
  },
  {
   "cell_type": "code",
   "execution_count": 44,
   "id": "aa6254f0",
   "metadata": {},
   "outputs": [
    {
     "name": "stdout",
     "output_type": "stream",
     "text": [
      "Thursday\n",
      "Thu\n",
      "July\n",
      "Jul\n"
     ]
    }
   ],
   "source": [
    "import datetime\n",
    "x = datetime.datetime.now()\n",
    "\n",
    "#   strftime ->  \"String format time\"\n",
    "#   It is a method in Python used to convert a datetime object into a formatted string.\n",
    "\n",
    "print(x.strftime(\"%A\"))     # %A (Full day name)\n",
    "print(x.strftime(\"%a\"))     # %a (short / Abbreviated day name)\n",
    "print(x.strftime(\"%B\"))     # %B (Full month name)\n",
    "print(x.strftime(\"%b\"))     # %b (short / Abbreviated month name)"
   ]
  },
  {
   "cell_type": "code",
   "execution_count": 45,
   "id": "a42797db",
   "metadata": {},
   "outputs": [
    {
     "name": "stdout",
     "output_type": "stream",
     "text": [
      "2025-07-10 00:00:00\n"
     ]
    }
   ],
   "source": [
    "import datetime \n",
    "x = datetime.datetime(2025, 7, 10)\n",
    "print(x)"
   ]
  },
  {
   "cell_type": "code",
   "execution_count": 46,
   "id": "a4f830db",
   "metadata": {},
   "outputs": [
    {
     "name": "stdout",
     "output_type": "stream",
     "text": [
      "Thu\n",
      "Thursday\n",
      "Jul\n",
      "July\n"
     ]
    }
   ],
   "source": [
    "import datetime\n",
    "x = datetime.datetime(2025, 7, 10)\n",
    "print(x.strftime(\"%a\"))\n",
    "print(x.strftime(\"%A\"))\n",
    "print(x.strftime(\"%b\"))\n",
    "print(x.strftime(\"%B\"))"
   ]
  }
 ],
 "metadata": {
  "kernelspec": {
   "display_name": "Python 3",
   "language": "python",
   "name": "python3"
  },
  "language_info": {
   "codemirror_mode": {
    "name": "ipython",
    "version": 3
   },
   "file_extension": ".py",
   "mimetype": "text/x-python",
   "name": "python",
   "nbconvert_exporter": "python",
   "pygments_lexer": "ipython3",
   "version": "3.10.0"
  }
 },
 "nbformat": 4,
 "nbformat_minor": 5
}
