{
 "cells": [
  {
   "cell_type": "code",
   "execution_count": null,
   "id": "85eb0b6b",
   "metadata": {},
   "outputs": [
    {
     "name": "stdout",
     "output_type": "stream",
     "text": [
      "Saloni\n"
     ]
    },
    {
     "ename": "NameError",
     "evalue": "name 's1' is not defined",
     "output_type": "error",
     "traceback": [
      "\u001b[1;31m---------------------------------------------------------------------------\u001b[0m",
      "\u001b[1;31mNameError\u001b[0m                                 Traceback (most recent call last)",
      "Input \u001b[1;32mIn [2]\u001b[0m, in \u001b[0;36m<cell line: 9>\u001b[1;34m()\u001b[0m\n\u001b[0;32m      6\u001b[0m \u001b[38;5;28mprint\u001b[39m(s1\u001b[38;5;241m.\u001b[39mname)  \n\u001b[0;32m      8\u001b[0m \u001b[38;5;28;01mdel\u001b[39;00m s1\n\u001b[1;32m----> 9\u001b[0m \u001b[38;5;28mprint\u001b[39m(\u001b[43ms1\u001b[49m\u001b[38;5;241m.\u001b[39mname)\n",
      "\u001b[1;31mNameError\u001b[0m: name 's1' is not defined"
     ]
    }
   ],
   "source": [
    "class Student :\n",
    "    def __init__(self, name) :\n",
    "        self.name = name\n",
    "\n",
    "s1 = Student(\"Saloni\")\n",
    "print(s1.name)  \n",
    "\n",
    "del s1           # This deletes the object 's1' from memory\n",
    "print(s1.name)   #  This will cause an error: NameError or AttributeError"
   ]
  },
  {
   "cell_type": "code",
   "execution_count": 3,
   "id": "d812fc29",
   "metadata": {},
   "outputs": [
    {
     "name": "stdout",
     "output_type": "stream",
     "text": [
      "12345\n",
      "abcde\n"
     ]
    }
   ],
   "source": [
    "class Account :\n",
    "    def __init__(self, acc_no, acc_password) :\n",
    "        self.acc_no = acc_no\n",
    "        self.acc_password = acc_password\n",
    "\n",
    "acc1 = Account(\"12345\", \"abcde\")\n",
    "print(acc1.acc_no)\n",
    "print(acc1.acc_password)        \n",
    "    "
   ]
  },
  {
   "cell_type": "code",
   "execution_count": null,
   "id": "62ce9453",
   "metadata": {},
   "outputs": [
    {
     "name": "stdout",
     "output_type": "stream",
     "text": [
      "12345\n"
     ]
    },
    {
     "ename": "AttributeError",
     "evalue": "'Account' object has no attribute 'acc_password'",
     "output_type": "error",
     "traceback": [
      "\u001b[1;31m---------------------------------------------------------------------------\u001b[0m",
      "\u001b[1;31mAttributeError\u001b[0m                            Traceback (most recent call last)",
      "Input \u001b[1;32mIn [4]\u001b[0m, in \u001b[0;36m<cell line: 8>\u001b[1;34m()\u001b[0m\n\u001b[0;32m      6\u001b[0m acc1 \u001b[38;5;241m=\u001b[39m Account(\u001b[38;5;124m\"\u001b[39m\u001b[38;5;124m12345\u001b[39m\u001b[38;5;124m\"\u001b[39m, \u001b[38;5;124m\"\u001b[39m\u001b[38;5;124mabcde\u001b[39m\u001b[38;5;124m\"\u001b[39m)\n\u001b[0;32m      7\u001b[0m \u001b[38;5;28mprint\u001b[39m(acc1\u001b[38;5;241m.\u001b[39macc_no)\n\u001b[1;32m----> 8\u001b[0m \u001b[38;5;28mprint\u001b[39m(\u001b[43macc1\u001b[49m\u001b[38;5;241;43m.\u001b[39;49m\u001b[43macc_password\u001b[49m)\n",
      "\u001b[1;31mAttributeError\u001b[0m: 'Account' object has no attribute 'acc_password'"
     ]
    }
   ],
   "source": [
    "class Account :\n",
    "    def __init__(self, acc_no, acc_password) :\n",
    "        self.acc_no = acc_no\n",
    "        self.__acc_password = acc_password        # private variable using ( Double underscore (__))\n",
    "\n",
    "acc1 = Account(\"12345\", \"abcde\")\n",
    "print(acc1.acc_no)                               # This will work: '12345'\n",
    "print(acc1.acc_password)                         # This will raise an AttributeError\n",
    "    "
   ]
  },
  {
   "cell_type": "code",
   "execution_count": null,
   "id": "646bcde0",
   "metadata": {},
   "outputs": [
    {
     "name": "stdout",
     "output_type": "stream",
     "text": [
      "12345\n",
      "abcde\n",
      "None\n"
     ]
    }
   ],
   "source": [
    "class Account :\n",
    "    def __init__(self, acc_no, acc_password) :\n",
    "        self.acc_no = acc_no\n",
    "        self.__acc_password = acc_password        # private variable using ( Double underscore (__))\n",
    "\n",
    "    def reset_password(self) :\n",
    "        print(self.__acc_password)                 # private variable accessed INSIDE the class\n",
    "\n",
    "acc1 = Account(\"12345\", \"abcde\")\n",
    "print(acc1.acc_no)                             # prints: 12345 (public variable can be accessed directly)\n",
    "print(acc1.reset_password())                   # prints the password (but also prints 'None' after that)        "
   ]
  },
  {
   "cell_type": "code",
   "execution_count": null,
   "id": "151031e2",
   "metadata": {},
   "outputs": [
    {
     "name": "stdout",
     "output_type": "stream",
     "text": [
      "Saloni\n"
     ]
    }
   ],
   "source": [
    "class Person :\n",
    "    __name = \"Saloni\"      # private variable (only for use inside the class)\n",
    "\n",
    "p1 = Person()\n",
    "print(p1._Person__name)   # # Accessing the private variable using its changed (mangled) name that Python creates to hide it"
   ]
  },
  {
   "cell_type": "code",
   "execution_count": null,
   "id": "057830b1",
   "metadata": {},
   "outputs": [
    {
     "name": "stdout",
     "output_type": "stream",
     "text": [
      "Kamdhenu\n"
     ]
    }
   ],
   "source": [
    " #   Inheritance\n",
    "#  Single Inheritance\n",
    "\n",
    "\n",
    "class Animal:\n",
    "    def eat(self):\n",
    "        print(\"Eating...\")\n",
    "\n",
    "class Cow(Animal):\n",
    "    def __init__(self, name):\n",
    "        self.name = name\n",
    "    \n",
    "A1 = Cow(\"Kamdhenu\")\n",
    "print(A1.name)"
   ]
  },
  {
   "cell_type": "code",
   "execution_count": null,
   "id": "9d9edecc",
   "metadata": {},
   "outputs": [
    {
     "name": "stdout",
     "output_type": "stream",
     "text": [
      "Popat\n",
      "Eating...\n",
      "flying...\n"
     ]
    }
   ],
   "source": [
    "# Multiple Inheritance\n",
    "\n",
    "class Animal:\n",
    "    def eat(self):\n",
    "        print(\"Eating...\")\n",
    "\n",
    "class Bird():\n",
    "    def fly(self):\n",
    "        print(\"flying...\")\n",
    "\n",
    "class Parrot(Animal, Bird):       # Multiple Inheritance\n",
    "    def __init__(self, name):\n",
    "        self.name = name\n",
    "\n",
    "A1 = Parrot(\"Popat\")\n",
    "print(A1.name)   \n",
    "A1.eat()         # Calling method from Animal class\n",
    "A1.fly()        # Calling method from Bird class\n",
    "                     "
   ]
  },
  {
   "cell_type": "code",
   "execution_count": null,
   "id": "e47744c4",
   "metadata": {},
   "outputs": [
    {
     "name": "stdout",
     "output_type": "stream",
     "text": [
      "Eating...\n",
      "Talking...\n",
      "Barking...\n"
     ]
    }
   ],
   "source": [
    "#   Multilevel Inheritance\n",
    "\n",
    "class Animal:\n",
    "    def eat(self):\n",
    "        print(\"Eating...\")\n",
    "\n",
    "class Mammal(Animal):\n",
    "    def talk(self):\n",
    "        print(\"Talking...\")\n",
    "\n",
    "class Dog(Mammal):\n",
    "    def bark(self):\n",
    "        print(\"Barking...\")\n",
    "\n",
    "A1 = Dog()\n",
    "A1.eat()\n",
    "A1.talk()\n",
    "A1.bark()\n"
   ]
  },
  {
   "cell_type": "code",
   "execution_count": 52,
   "id": "c3f88823",
   "metadata": {},
   "outputs": [
    {
     "name": "stdout",
     "output_type": "stream",
     "text": [
      "car started...\n",
      "None\n",
      "Fortune\n"
     ]
    }
   ],
   "source": [
    "                               #   Inheritance\n",
    "\n",
    "                               #  Single Inheritance\n",
    "\n",
    "\n",
    "#  @staticmethod is optional in inheritance.\n",
    "#  Use it only when method doesn’t need object data (self).\n",
    "\n",
    "\n",
    "#  Parent class\n",
    "class Car :\n",
    "    @staticmethod\n",
    "    def start() :\n",
    "        print(\"car started...\")\n",
    "\n",
    "    @staticmethod\n",
    "    def stop() :\n",
    "        print(\"car stopped\")\n",
    "\n",
    "#   Child class (inherits from Car)\n",
    "class ToyataCar(Car) :\n",
    "    def __init__(self, name) :\n",
    "        self.name = name\n",
    "\n",
    "#   Creating objects of child class\n",
    "car1 = ToyataCar(\"Fortune\")\n",
    "car2 = ToyataCar(\"BMW\") \n",
    "print(car1.start())\n",
    "print(car1.name)       \n"
   ]
  },
  {
   "cell_type": "code",
   "execution_count": 53,
   "id": "baed1f7c",
   "metadata": {},
   "outputs": [
    {
     "name": "stdout",
     "output_type": "stream",
     "text": [
      "black\n"
     ]
    }
   ],
   "source": [
    "                            # Single Inheritance\n",
    "\n",
    "class Car :\n",
    "    color = \"black\"\n",
    "    @staticmethod\n",
    "    def start() :\n",
    "        print(\"car started...\")\n",
    "\n",
    "    @staticmethod\n",
    "    def stop() :\n",
    "        print(\"car stopped\")\n",
    "\n",
    "class ToyataCar(Car) :\n",
    "    def __init__(self, name) :\n",
    "        self.name = name\n",
    "\n",
    "car1 = ToyataCar(\"Fortune\")\n",
    "car2 = ToyataCar(\"Prius\") \n",
    "print(car1.color)    \n"
   ]
  },
  {
   "cell_type": "code",
   "execution_count": 54,
   "id": "0fc9412b",
   "metadata": {},
   "outputs": [
    {
     "name": "stdout",
     "output_type": "stream",
     "text": [
      "car started...\n"
     ]
    }
   ],
   "source": [
    "#   Multilevel Inheritance\n",
    "\n",
    "class Vehicle :\n",
    "    @staticmethod\n",
    "    def start() :\n",
    "        print(\"started\")\n",
    "\n",
    "    @staticmethod\n",
    "    def stop() :\n",
    "        print(\"stopped\")\n",
    "\n",
    "class Car(Vehicle) :\n",
    "    def __init__(self, name) :\n",
    "        self.name = name  \n",
    "\n",
    "class ToyotaCar(Car) :\n",
    "    def __init(self, type) :\n",
    "        self.type = type\n",
    "\n",
    "v1 = ToyataCar(\"diesel\")      \n",
    "v1.start()    "
   ]
  },
  {
   "cell_type": "code",
   "execution_count": 55,
   "id": "d110359a",
   "metadata": {},
   "outputs": [
    {
     "name": "stdout",
     "output_type": "stream",
     "text": [
      "Welcome to Class A\n",
      "Welcome to class B\n",
      "Welcome to Class C\n"
     ]
    }
   ],
   "source": [
    "#   Multiple Inheritance\n",
    "\n",
    "class A :\n",
    "    varA = \"Welcome to Class A\"\n",
    "\n",
    "class B :\n",
    "    varB = \"Welcome to class B\"\n",
    "\n",
    "class C(A, B) :\n",
    "    varC = \"Welcome to Class C\" \n",
    "\n",
    "c1 = C()\n",
    "\n",
    "print(c1.varA)\n",
    "print(c1.varB)\n",
    "print(c1.varC)"
   ]
  },
  {
   "cell_type": "code",
   "execution_count": 56,
   "id": "70afc391",
   "metadata": {},
   "outputs": [
    {
     "name": "stdout",
     "output_type": "stream",
     "text": [
      "Father:  Business, Driving\n",
      "Mother:  Cooking, Dancing\n",
      "Child:  Coding, Painting\n"
     ]
    }
   ],
   "source": [
    "# Parent class 1\n",
    "class Father :\n",
    "    def skills(self) :\n",
    "        print(\"Father:  Business, Driving\")\n",
    "\n",
    "# Parent class 2\n",
    "class Mother :\n",
    "    def hobbies(self) :\n",
    "        print(\"Mother:  Cooking, Dancing\")   \n",
    "\n",
    "# Child class inherits from both Father and Mother\n",
    "class Child(Father, Mother) :\n",
    "    def ownTalent(self) :\n",
    "        print(\"Child:  Coding, Painting\")\n",
    "\n",
    "# Create object of child class\n",
    "c = Child()\n",
    "\n",
    "# Accessing methods from both parent classes and child\n",
    "c.skills()\n",
    "c.hobbies()\n",
    "c.ownTalent()\n"
   ]
  },
  {
   "cell_type": "code",
   "execution_count": 57,
   "id": "1d866021",
   "metadata": {},
   "outputs": [
    {
     "name": "stdout",
     "output_type": "stream",
     "text": [
      "started\n",
      "prius\n",
      "electric\n"
     ]
    }
   ],
   "source": [
    "# Super Method Example\n",
    "\n",
    "# Parent class\n",
    "class Car:\n",
    "    def __init__(self, type):       # Constructor of Car\n",
    "        self.type = type            # Store car type (like \"electric\")\n",
    "\n",
    "    @staticmethod\n",
    "    def start():                    # Static method – can be called without object\n",
    "        print(\"started\")\n",
    "\n",
    "    def stop(self):                 # Regular method – needs object to call\n",
    "        print(\"stop\")\n",
    "\n",
    "# Child class (inherits from Car)\n",
    "class ToyotaCar(Car):\n",
    "    def __init__(self, name, type):     # Constructor of ToyotaCar with name and type\n",
    "        super().__init__(type)          # Call parent class constructor using super()\n",
    "        self.name = name                # Store car name (like \"prius\")\n",
    "        super().start()                 # Call parent class static method using super()\n",
    "\n",
    "# Creating object of child class\n",
    "car1 = ToyotaCar(\"prius\", \"electric\")  # \"started\" will be printed during object creation\n",
    "\n",
    "# Accessing attributes\n",
    "print(car1.name)   # Output: prius\n",
    "print(car1.type)   # Output: electric\n"
   ]
  },
  {
   "cell_type": "code",
   "execution_count": 58,
   "id": "4c48a490",
   "metadata": {},
   "outputs": [
    {
     "name": "stdout",
     "output_type": "stream",
     "text": [
      "Saloni Goyal\n",
      "Saloni Goyal\n"
     ]
    }
   ],
   "source": [
    "#   Class Method Example\n",
    "\n",
    "class Person :\n",
    "    name = \"anonymous\"\n",
    "\n",
    "    @classmethod\n",
    "    def changeName(cls, name):\n",
    "        cls.name = name\n",
    "\n",
    "p1 = Person()\n",
    "p1.changeName(\"Saloni Goyal\")\n",
    "print(p1.name)\n",
    "print(Person.name)        "
   ]
  }
 ],
 "metadata": {
  "kernelspec": {
   "display_name": "Python 3",
   "language": "python",
   "name": "python3"
  },
  "language_info": {
   "codemirror_mode": {
    "name": "ipython",
    "version": 3
   },
   "file_extension": ".py",
   "mimetype": "text/x-python",
   "name": "python",
   "nbconvert_exporter": "python",
   "pygments_lexer": "ipython3",
   "version": "3.10.0"
  }
 },
 "nbformat": 4,
 "nbformat_minor": 5
}
