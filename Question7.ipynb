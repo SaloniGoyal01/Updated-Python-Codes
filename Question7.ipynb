{
 "cells": [
  {
   "cell_type": "code",
   "execution_count": 7,
   "id": "aa8fe406",
   "metadata": {},
   "outputs": [
    {
     "name": "stdout",
     "output_type": "stream",
     "text": [
      "{'table': ['a piece of furniture', 'list of facts & figures'], 'cat': 'a small animal'}\n"
     ]
    }
   ],
   "source": [
    "# Store following word meaning in a python dictionary :\n",
    "#  table : \"a piece of furniture\", \"list of facts & figures\"\n",
    "#  cat : \"a small animal\"\n",
    "\n",
    "dictionary = {\n",
    "    \"table\" : [\n",
    "        \"a piece of furniture\",\n",
    "        \"list of facts & figures\"\n",
    "    ],\n",
    "    \"cat\" : \"a small animal\"\n",
    "}\n",
    "print(dictionary)"
   ]
  },
  {
   "cell_type": "code",
   "execution_count": null,
   "id": "979b66be",
   "metadata": {},
   "outputs": [
    {
     "name": "stdout",
     "output_type": "stream",
     "text": [
      "5\n"
     ]
    }
   ],
   "source": [
    "#  You are given a list of subject for students. Assume one classroom is require for 1 subject.\n",
    "#  How many classrooms are needed by all students.\n",
    "#   \"python\", \"java\", \"c++\", \"python\", \"javascript\", \n",
    "#   \"java\", \"python\", \"java\", \"c++\", \"c\"\n",
    "\n",
    "set = {\n",
    "  \"python\", \"java\", \"c++\", \"python\", \"javascript\", \n",
    "  \"java\", \"python\", \"java\", \"c++\", \"c\"\n",
    "}\n",
    "print(len(set))\n",
    "#  set automatically removes duplicates\n"
   ]
  },
  {
   "cell_type": "code",
   "execution_count": null,
   "id": "10f87f14",
   "metadata": {},
   "outputs": [
    {
     "name": "stdout",
     "output_type": "stream",
     "text": [
      "{9, '9.0'}\n"
     ]
    }
   ],
   "source": [
    "#   Figure out a way to store 9 & 9.0 as separate values in the set.\n",
    "#   (You can take help of built-in data types)\n",
    "\n",
    "values = {9, \"9.0\"}\n",
    "print(values)\n"
   ]
  },
  {
   "cell_type": "code",
   "execution_count": 23,
   "id": "2b3e8102",
   "metadata": {},
   "outputs": [
    {
     "name": "stdout",
     "output_type": "stream",
     "text": [
      "{9.0, '9'}\n"
     ]
    }
   ],
   "source": [
    "#   Figure out a way to store 9 & 9.0 as separate values in the set.\n",
    "#   (You can take help of built-in data types)\n",
    "\n",
    "values = {\"9\", 9.0}\n",
    "print(values)"
   ]
  },
  {
   "cell_type": "code",
   "execution_count": 24,
   "id": "cc94e4b9",
   "metadata": {},
   "outputs": [
    {
     "name": "stdout",
     "output_type": "stream",
     "text": [
      "{('int', 9), ('float', 9.0)}\n"
     ]
    }
   ],
   "source": [
    "#   Figure out a way to store 9 & 9.0 as separate values in the set.\n",
    "#   (You can take help of built-in data types)\n",
    "\n",
    "values = {\n",
    "    (\"int\", 9),\n",
    "    (\"float\", 9.0)\n",
    "}\n",
    "print(values)"
   ]
  },
  {
   "cell_type": "code",
   "execution_count": 25,
   "id": "f799d8a0",
   "metadata": {},
   "outputs": [
    {
     "name": "stdout",
     "output_type": "stream",
     "text": [
      "{9, 9.1}\n"
     ]
    }
   ],
   "source": [
    "values = {9, 9.1}\n",
    "print(values)"
   ]
  }
 ],
 "metadata": {
  "kernelspec": {
   "display_name": "Python 3",
   "language": "python",
   "name": "python3"
  },
  "language_info": {
   "codemirror_mode": {
    "name": "ipython",
    "version": 3
   },
   "file_extension": ".py",
   "mimetype": "text/x-python",
   "name": "python",
   "nbconvert_exporter": "python",
   "pygments_lexer": "ipython3",
   "version": "3.10.0"
  }
 },
 "nbformat": 4,
 "nbformat_minor": 5
}
