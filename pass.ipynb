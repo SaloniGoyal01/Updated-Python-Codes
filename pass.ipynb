{
 "cells": [
  {
   "cell_type": "code",
   "execution_count": 3,
   "id": "322efa1b",
   "metadata": {},
   "outputs": [
    {
     "name": "stdout",
     "output_type": "stream",
     "text": [
      "Some useful work\n"
     ]
    }
   ],
   "source": [
    "for i in range(5) :\n",
    "    pass\n",
    "print(\"Some useful work\")"
   ]
  },
  {
   "cell_type": "code",
   "execution_count": 4,
   "id": "3995f9fd",
   "metadata": {},
   "outputs": [
    {
     "name": "stdout",
     "output_type": "stream",
     "text": [
      "Some useful work\n"
     ]
    }
   ],
   "source": [
    "for i in range(5) :\n",
    "    pass\n",
    "if i <= 5 :\n",
    "    pass\n",
    "print(\"Some useful work\")"
   ]
  }
 ],
 "metadata": {
  "kernelspec": {
   "display_name": "Python 3",
   "language": "python",
   "name": "python3"
  },
  "language_info": {
   "codemirror_mode": {
    "name": "ipython",
    "version": 3
   },
   "file_extension": ".py",
   "mimetype": "text/x-python",
   "name": "python",
   "nbconvert_exporter": "python",
   "pygments_lexer": "ipython3",
   "version": "3.10.0"
  }
 },
 "nbformat": 4,
 "nbformat_minor": 5
}
