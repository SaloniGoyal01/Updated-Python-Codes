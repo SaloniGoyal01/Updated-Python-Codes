{
 "cells": [
  {
   "cell_type": "code",
   "execution_count": null,
   "id": "d4179aa4",
   "metadata": {},
   "outputs": [],
   "source": [
    "# Exception Handling\n",
    "\n",
    "# When an error occurs, or exception as we call it, Python will normally stop and generate an error message.\n",
    "# These exceptions can be handled using the try statement\n",
    "\n",
    "# try:\n",
    "#     # code that may raise an error\n",
    "# except:\n",
    "#     # code that runs if error occurs\n",
    "# else:\n",
    "#     # runs only if no error occurs in try\n",
    "# finally:\n",
    "#     # always runs no matter what\n"
   ]
  },
  {
   "cell_type": "code",
   "execution_count": null,
   "id": "91a5b52d",
   "metadata": {},
   "outputs": [
    {
     "name": "stdout",
     "output_type": "stream",
     "text": [
      "An exception occurred\n"
     ]
    }
   ],
   "source": [
    "try :\n",
    "#  Trying to print the value of x\n",
    "#  But x is not defined yet, so this will raise an error\n",
    "    print(x)\n",
    "except :\n",
    "#  This block runs when there is an error in the try block\n",
    "#  Since x is not defined, it will catch the error and print this message\n",
    "    print(\"An exception occurred\")"
   ]
  },
  {
   "cell_type": "code",
   "execution_count": null,
   "id": "bba960c0",
   "metadata": {},
   "outputs": [
    {
     "name": "stdout",
     "output_type": "stream",
     "text": [
      "An exception occurred\n"
     ]
    }
   ],
   "source": [
    "try:\n",
    "    # Trying to print variable x\n",
    "    # But x is not defined, so this will raise a NameError\n",
    "    print(x)\n",
    "\n",
    "except NameError:\n",
    "    # If the error is specifically a NameError (undefined variable), this block will run\n",
    "    print(\"An exception occurred\")\n",
    "\n",
    "except:\n",
    "    # If the error is NOT a NameError but some other error, this block will run\n",
    "    print(\"Something went wrong\")\n"
   ]
  },
  {
   "cell_type": "code",
   "execution_count": 5,
   "id": "bac59df4",
   "metadata": {},
   "outputs": [
    {
     "name": "stdout",
     "output_type": "stream",
     "text": [
      "Hello\n",
      "No exception occurred\n"
     ]
    }
   ],
   "source": [
    "#   You can use the else keyword to define a block of code to be executed if no errors were raised:\n",
    "\n",
    "try :\n",
    "    print(\"Hello\")\n",
    "except :\n",
    "    print(\"Something went wrong\")\n",
    "else :\n",
    "    print(\"No exception occurred\")"
   ]
  },
  {
   "cell_type": "code",
   "execution_count": 8,
   "id": "86ff7115",
   "metadata": {},
   "outputs": [
    {
     "name": "stdout",
     "output_type": "stream",
     "text": [
      "Hello\n",
      "this block always runs, no matter what\n"
     ]
    }
   ],
   "source": [
    "try :\n",
    "    print(\"Hello\")\n",
    "except :\n",
    "    print(\"Something went wrong\")\n",
    "finally :\n",
    "    print(\"this block always runs, no matter what\")"
   ]
  },
  {
   "cell_type": "code",
   "execution_count": 9,
   "id": "30f41a03",
   "metadata": {},
   "outputs": [
    {
     "name": "stdout",
     "output_type": "stream",
     "text": [
      "An exception occurred\n",
      "this block always runs, no matter what\n"
     ]
    }
   ],
   "source": [
    "try :\n",
    "    print(x)\n",
    "except :\n",
    "    print(\"An exception occurred\")\n",
    "finally :\n",
    "    print(\"this block always runs, no matter what\")"
   ]
  },
  {
   "cell_type": "code",
   "execution_count": 16,
   "id": "bddf21b7",
   "metadata": {},
   "outputs": [
    {
     "name": "stdout",
     "output_type": "stream",
     "text": [
      "Something went wrong when writing to the file\n",
      "Closing the file...\n"
     ]
    }
   ],
   "source": [
    "try:\n",
    "    # Trying to open the file (default mode is 'r' = read-only)\n",
    "    f = open(\"demofile.txt\")\n",
    "    \n",
    "    try:\n",
    "        # Trying to write into the file\n",
    "        # But since the file is in read-only mode, this will cause an error\n",
    "        f.write(\"Hello World\")\n",
    "    \n",
    "    except:\n",
    "        # This block runs if there's an error while writing\n",
    "        print(\"Something went wrong when writing to the file\")\n",
    "    \n",
    "    finally:\n",
    "        # This block always runs — whether an error occurred or not\n",
    "        # It ensures the file is closed\n",
    "        print(\"Closing the file...\")\n",
    "        f.close()\n",
    "\n",
    "except:\n",
    "    # This block runs if the file couldn't be opened (e.g., file doesn't exist)\n",
    "    print(\"Something went wrong when opening the file\")\n"
   ]
  },
  {
   "cell_type": "code",
   "execution_count": null,
   "id": "1ca58a50",
   "metadata": {},
   "outputs": [],
   "source": [
    "# The raise keyword is used to manually trigger an exception (error) in Python.\n",
    "# It tells Python:\n",
    "# “Stop the program here and throw this specific error.”\n",
    "\n",
    "\n",
    "# 🎯 Why Use raise?\n",
    "\n",
    "# You use raise when:\n",
    "# You want to enforce rules (e.g., no negative age)\n",
    "# You want to stop the program if something is wrong\n",
    "# You want to customize error messages\n",
    "# You’re debugging or validating input"
   ]
  },
  {
   "cell_type": "code",
   "execution_count": 18,
   "id": "81c9458c",
   "metadata": {},
   "outputs": [
    {
     "name": "stdout",
     "output_type": "stream",
     "text": [
      "Negative number\n"
     ]
    },
    {
     "ename": "Exception",
     "evalue": "Sorry, no numbers below zero",
     "output_type": "error",
     "traceback": [
      "\u001b[1;31m---------------------------------------------------------------------------\u001b[0m",
      "\u001b[1;31mException\u001b[0m                                 Traceback (most recent call last)",
      "Input \u001b[1;32mIn [18]\u001b[0m, in \u001b[0;36m<cell line: 4>\u001b[1;34m()\u001b[0m\n\u001b[0;32m      5\u001b[0m \u001b[38;5;28mprint\u001b[39m(\u001b[38;5;124m\"\u001b[39m\u001b[38;5;124mNegative number\u001b[39m\u001b[38;5;124m\"\u001b[39m)  \u001b[38;5;66;03m# Inform the user that the number is negative\u001b[39;00m\n\u001b[0;32m      7\u001b[0m \u001b[38;5;66;03m# Raise a custom error and stop the program\u001b[39;00m\n\u001b[1;32m----> 8\u001b[0m \u001b[38;5;28;01mraise\u001b[39;00m \u001b[38;5;167;01mException\u001b[39;00m(\u001b[38;5;124m\"\u001b[39m\u001b[38;5;124mSorry, no numbers below zero\u001b[39m\u001b[38;5;124m\"\u001b[39m)\n",
      "\u001b[1;31mException\u001b[0m: Sorry, no numbers below zero"
     ]
    }
   ],
   "source": [
    "x = -1  # Assign the value -1 to variable x\n",
    "\n",
    "# Check if x is less than 0\n",
    "if x < 0:\n",
    "    print(\"Negative number\")  # Inform the user that the number is negative\n",
    "\n",
    "    # Raise a custom error and stop the program\n",
    "    raise Exception(\"Sorry, no numbers below zero\")\n"
   ]
  },
  {
   "cell_type": "code",
   "execution_count": null,
   "id": "9f161fae",
   "metadata": {},
   "outputs": [
    {
     "ename": "Exception",
     "evalue": "Age cannot be negative",
     "output_type": "error",
     "traceback": [
      "\u001b[1;31m---------------------------------------------------------------------------\u001b[0m",
      "\u001b[1;31mException\u001b[0m                                 Traceback (most recent call last)",
      "Input \u001b[1;32mIn [20]\u001b[0m, in \u001b[0;36m<cell line: 2>\u001b[1;34m()\u001b[0m\n\u001b[0;32m      1\u001b[0m age \u001b[38;5;241m=\u001b[39m \u001b[38;5;241m-\u001b[39m\u001b[38;5;241m2\u001b[39m\n\u001b[0;32m      2\u001b[0m \u001b[38;5;28;01mif\u001b[39;00m age \u001b[38;5;241m<\u001b[39m \u001b[38;5;241m0\u001b[39m :\n\u001b[1;32m----> 3\u001b[0m     \u001b[38;5;28;01mraise\u001b[39;00m \u001b[38;5;167;01mException\u001b[39;00m(\u001b[38;5;124m\"\u001b[39m\u001b[38;5;124mAge cannot be negative\u001b[39m\u001b[38;5;124m\"\u001b[39m)\n",
      "\u001b[1;31mException\u001b[0m: Age cannot be negative"
     ]
    }
   ],
   "source": [
    "age = -2\n",
    "if age < 0 :\n",
    "    raise Exception(\"Age cannot be negative\")  # Raise an exception if age is negative\n",
    "print(\"valid age\", age)       # This line will only run if no exception is raised"
   ]
  },
  {
   "cell_type": "code",
   "execution_count": 21,
   "id": "cd7d8a74",
   "metadata": {},
   "outputs": [
    {
     "ename": "Exception",
     "evalue": "Only integers are allowed",
     "output_type": "error",
     "traceback": [
      "\u001b[1;31m---------------------------------------------------------------------------\u001b[0m",
      "\u001b[1;31mException\u001b[0m                                 Traceback (most recent call last)",
      "Input \u001b[1;32mIn [21]\u001b[0m, in \u001b[0;36m<cell line: 2>\u001b[1;34m()\u001b[0m\n\u001b[0;32m      1\u001b[0m x \u001b[38;5;241m=\u001b[39m \u001b[38;5;124m\"\u001b[39m\u001b[38;5;124mhello world\u001b[39m\u001b[38;5;124m\"\u001b[39m\n\u001b[0;32m      2\u001b[0m \u001b[38;5;28;01mif\u001b[39;00m \u001b[38;5;129;01mnot\u001b[39;00m \u001b[38;5;28mtype\u001b[39m(x) \u001b[38;5;129;01mis\u001b[39;00m \u001b[38;5;28mint\u001b[39m :\n\u001b[1;32m----> 3\u001b[0m     \u001b[38;5;28;01mraise\u001b[39;00m \u001b[38;5;167;01mException\u001b[39;00m(\u001b[38;5;124m\"\u001b[39m\u001b[38;5;124mOnly integers are allowed\u001b[39m\u001b[38;5;124m\"\u001b[39m)\n",
      "\u001b[1;31mException\u001b[0m: Only integers are allowed"
     ]
    }
   ],
   "source": [
    "x = \"hello world\"\n",
    "if not type(x) is int :\n",
    "    raise Exception(\"Only integers are allowed\")  # Raise an exception if x is not an integer"
   ]
  }
 ],
 "metadata": {
  "kernelspec": {
   "display_name": "Python 3",
   "language": "python",
   "name": "python3"
  },
  "language_info": {
   "codemirror_mode": {
    "name": "ipython",
    "version": 3
   },
   "file_extension": ".py",
   "mimetype": "text/x-python",
   "name": "python",
   "nbconvert_exporter": "python",
   "pygments_lexer": "ipython3",
   "version": "3.10.0"
  }
 },
 "nbformat": 4,
 "nbformat_minor": 5
}
