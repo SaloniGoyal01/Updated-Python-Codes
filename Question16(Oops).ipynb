{
 "cells": [
  {
   "cell_type": "code",
   "execution_count": 8,
   "id": "b4b1844b",
   "metadata": {},
   "outputs": [
    {
     "name": "stdout",
     "output_type": "stream",
     "text": [
      "saloni [99, 98, 97]\n",
      "saloni your marks avg is:  98.0\n"
     ]
    }
   ],
   "source": [
    "#  Create student class that takes name & marks of 3 subjects as arguments in constructor.\n",
    "#  Then create a method to print the average.\n",
    "\n",
    "class Student :\n",
    "    def __init__(self, name, marks) :\n",
    "        self.name = name \n",
    "        self.marks = marks\n",
    "\n",
    "    def get_Avg(self) :\n",
    "        sum = 0\n",
    "        for val in self.marks :\n",
    "            sum += val\n",
    "        print(self.name, \"your marks avg is: \", sum/3)\n",
    "\n",
    "s1 = Student(\"saloni\", [99, 98, 97])        \n",
    "print(s1.name, s1.marks)\n",
    "s1.get_Avg()"
   ]
  },
  {
   "cell_type": "code",
   "execution_count": 12,
   "id": "254a8875",
   "metadata": {},
   "outputs": [
    {
     "name": "stdout",
     "output_type": "stream",
     "text": [
      "Saloni [99, 98, 97]\n",
      "Saloni your marks avg is:  98.0\n"
     ]
    }
   ],
   "source": [
    "class Student :\n",
    "    def __init__(self, name, marks) :\n",
    "        self.name = name\n",
    "        self.marks = marks\n",
    "\n",
    "    def get_avg(self) :\n",
    "        avg = sum(self.marks) / len(self.marks)\n",
    "        print(self.name, \"your marks avg is: \", avg)\n",
    "\n",
    "s1 = Student(\"Saloni\", [99, 98, 97])\n",
    "print(s1.name, s1.marks)    \n",
    "s1.get_avg()    "
   ]
  },
  {
   "cell_type": "code",
   "execution_count": null,
   "id": "df233b52",
   "metadata": {},
   "outputs": [
    {
     "name": "stdout",
     "output_type": "stream",
     "text": [
      "Rs. 10000 was debited\n",
      "total balance : -5000\n",
      "Rs. 50000 was credited\n",
      "total balance : 45000\n"
     ]
    }
   ],
   "source": [
    "#  Create Account class with 2 attributes - balance & account no.\n",
    "#  Create methods for debit, credit & printing the balance.\n",
    "\n",
    "class Account :\n",
    "    def __init__(self, bal, acc_no) :\n",
    "        self.bal = bal\n",
    "        self.acc_no = acc_no\n",
    "\n",
    "    def debit(self, amount) :\n",
    "        self.bal -= amount   \n",
    "        print(\"Rs.\", amount, \"was debited\")\n",
    "        print(\"total balance :\", self.get_balance())\n",
    "\n",
    "    def credit(self, amount) :\n",
    "        self.bal += amount\n",
    "        print(\"Rs.\", amount, \"was credited\")\n",
    "        print(\"total balance :\", self.get_balance())\n",
    "\n",
    "    def get_balance(self) :\n",
    "        return self.bal\n",
    "\n",
    "acc1 = Account(5000, 12345)\n",
    "acc1.debit(10000)\n",
    "acc1.credit(50000)\n",
    "          "
   ]
  }
 ],
 "metadata": {
  "kernelspec": {
   "display_name": "Python 3",
   "language": "python",
   "name": "python3"
  },
  "language_info": {
   "codemirror_mode": {
    "name": "ipython",
    "version": 3
   },
   "file_extension": ".py",
   "mimetype": "text/x-python",
   "name": "python",
   "nbconvert_exporter": "python",
   "pygments_lexer": "ipython3",
   "version": "3.10.0"
  }
 },
 "nbformat": 4,
 "nbformat_minor": 5
}
