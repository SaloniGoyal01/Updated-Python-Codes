{
 "cells": [
  {
   "cell_type": "code",
   "execution_count": 2,
   "id": "cce91a91",
   "metadata": {},
   "outputs": [
    {
     "name": "stdout",
     "output_type": "stream",
     "text": [
      "This is a String. \t We are creating it in Python.\n"
     ]
    }
   ],
   "source": [
    "str1 = \"This is a String. \\t We are creating it in Python.\"\n",
    "print(str1)"
   ]
  },
  {
   "cell_type": "code",
   "execution_count": null,
   "id": "f6242048",
   "metadata": {},
   "outputs": [
    {
     "name": "stdout",
     "output_type": "stream",
     "text": [
      "Saloni Goyal\n"
     ]
    }
   ],
   "source": [
    "str1 = \"Saloni\"\n",
    "str2 = \"Goyal\"\n",
    "FinalStr = str1 + str2\n",
    "print(FinalStr)"
   ]
  },
  {
   "cell_type": "code",
   "execution_count": null,
   "id": "308b868b",
   "metadata": {},
   "outputs": [
    {
     "name": "stdout",
     "output_type": "stream",
     "text": [
      "loni G\n",
      " Goyal\n"
     ]
    }
   ],
   "source": [
    "# Slicing Sting\n",
    "str = \"Saloni Goyal\"\n",
    "print(str[2:8])       # loni G\n",
    "print(str[6:12])      # Goyal"
   ]
  },
  {
   "cell_type": "code",
   "execution_count": null,
   "id": "ecbb301e",
   "metadata": {},
   "outputs": [
    {
     "name": "stdout",
     "output_type": "stream",
     "text": [
      "pp\n"
     ]
    }
   ],
   "source": [
    "str = \"Apple\"\n",
    "print(str[-4:-2])    # pp"
   ]
  }
 ],
 "metadata": {
  "kernelspec": {
   "display_name": "Python 3",
   "language": "python",
   "name": "python3"
  },
  "language_info": {
   "codemirror_mode": {
    "name": "ipython",
    "version": 3
   },
   "file_extension": ".py",
   "mimetype": "text/x-python",
   "name": "python",
   "nbconvert_exporter": "python",
   "pygments_lexer": "ipython3",
   "version": "3.10.0"
  }
 },
 "nbformat": 4,
 "nbformat_minor": 5
}
