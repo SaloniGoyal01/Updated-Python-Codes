{
 "cells": [
  {
   "cell_type": "code",
   "execution_count": 11,
   "id": "c464d9fd",
   "metadata": {},
   "outputs": [
    {
     "name": "stdout",
     "output_type": "stream",
     "text": [
      "positive\n"
     ]
    }
   ],
   "source": [
    "#   Check Positive, Negative or Zero\n",
    "n = 2\n",
    "if(n>0) :\n",
    "    print(\"positive\")\n",
    "elif(n<0) :\n",
    "    print(\"negative\")\n",
    "else :\n",
    "    print(\"zero\")"
   ]
  },
  {
   "cell_type": "code",
   "execution_count": 12,
   "id": "25c094ba",
   "metadata": {},
   "outputs": [
    {
     "name": "stdout",
     "output_type": "stream",
     "text": [
      "1\n",
      "2\n",
      "3\n",
      "4\n",
      "5\n"
     ]
    }
   ],
   "source": [
    "#   Print First n Natural Numbers\n",
    "n = 1\n",
    "while n <= 5 :\n",
    "    print(n)\n",
    "    n+=1"
   ]
  },
  {
   "cell_type": "code",
   "execution_count": 26,
   "id": "96ff26cb",
   "metadata": {},
   "outputs": [
    {
     "name": "stdout",
     "output_type": "stream",
     "text": [
      "1\n",
      "2\n",
      "3\n",
      "4\n",
      "5\n"
     ]
    }
   ],
   "source": [
    "n = 1\n",
    "for i in range(1, 6) :\n",
    "    print(n)\n",
    "    n+=1"
   ]
  },
  {
   "cell_type": "code",
   "execution_count": null,
   "id": "5b98591e",
   "metadata": {},
   "outputs": [
    {
     "name": "stdout",
     "output_type": "stream",
     "text": [
      "1\n",
      "2\n",
      "3\n",
      "4\n",
      "5\n"
     ]
    }
   ],
   "source": [
    "for i in range(1, 6) :\n",
    "    print(i)"
   ]
  },
  {
   "cell_type": "code",
   "execution_count": 33,
   "id": "d8c8089d",
   "metadata": {},
   "outputs": [
    {
     "name": "stdout",
     "output_type": "stream",
     "text": [
      "120\n"
     ]
    }
   ],
   "source": [
    "#    Find the factorial of a given number using a for loop.   (n = 5)\n",
    "n = 5\n",
    "fact = 1\n",
    "for i in range(1, n+1) :\n",
    "    fact*=i\n",
    "    i+=1\n",
    "print(fact)"
   ]
  },
  {
   "cell_type": "code",
   "execution_count": 41,
   "id": "56195605",
   "metadata": {},
   "outputs": [
    {
     "name": "stdout",
     "output_type": "stream",
     "text": [
      "palindrome\n"
     ]
    }
   ],
   "source": [
    "#   Check if a given string is a palindrome.   (word = \"madam\")\n",
    "word = \"madam\"\n",
    "reversed_String = word[: : -1]    #[start, stop, step]\n",
    "if word == reversed_String :\n",
    "    print(\"palindrome\")\n",
    "else :\n",
    "    print(\"not palindrome\")\n"
   ]
  },
  {
   "cell_type": "code",
   "execution_count": 50,
   "id": "24f257e2",
   "metadata": {},
   "outputs": [
    {
     "name": "stdout",
     "output_type": "stream",
     "text": [
      "palindrome\n"
     ]
    }
   ],
   "source": [
    "word = \"madam\"\n",
    "reversed_String = \"\"\n",
    "for i in word :\n",
    "        reversed_String = i+reversed_String\n",
    "if(word == reversed_String) :\n",
    "        print(\"palindrome\")\n",
    "else :\n",
    "        print(\"not palindrome\") "
   ]
  },
  {
   "cell_type": "code",
   "execution_count": 10,
   "id": "44d9d79d",
   "metadata": {},
   "outputs": [
    {
     "name": "stdout",
     "output_type": "stream",
     "text": [
      "palindrome\n"
     ]
    }
   ],
   "source": [
    "n = 12121\n",
    "n_str = str(n)\n",
    "reversed_String = \"\"\n",
    "for i in n_str :\n",
    "    reversed_String = i+reversed_String\n",
    "if n_str == reversed_String :\n",
    "    print(\"palindrome\")\n",
    "else:\n",
    "    print(\"not\")"
   ]
  },
  {
   "cell_type": "code",
   "execution_count": 12,
   "id": "ae147b13",
   "metadata": {},
   "outputs": [
    {
     "name": "stdout",
     "output_type": "stream",
     "text": [
      "even\n"
     ]
    }
   ],
   "source": [
    "#   Check if a number is even or odd.\n",
    "n = 10\n",
    "if n%2==0 :\n",
    "    print(\"even\")\n",
    "else:\n",
    "    print(\"odd\")"
   ]
  },
  {
   "cell_type": "code",
   "execution_count": 3,
   "id": "2e5cc974",
   "metadata": {},
   "outputs": [
    {
     "name": "stdout",
     "output_type": "stream",
     "text": [
      "15\n"
     ]
    }
   ],
   "source": [
    "#   Find the sum of n elements \n",
    "\n",
    "n = 5\n",
    "sum = 0\n",
    "i = 1\n",
    "while n >= i :\n",
    "    sum+=i\n",
    "    i+=1\n",
    "print(sum)"
   ]
  },
  {
   "cell_type": "code",
   "execution_count": 5,
   "id": "2da1e6c0",
   "metadata": {},
   "outputs": [
    {
     "name": "stdout",
     "output_type": "stream",
     "text": [
      "150\n"
     ]
    }
   ],
   "source": [
    "#   Find the sum of all elements in a list\n",
    "#   numbers = [10, 20, 30, 40, 50]\n",
    "\n",
    "numbers = [10, 20, 30, 40, 50]\n",
    "sum = 0\n",
    "for num in numbers :\n",
    "    sum+=num\n",
    "print(sum)"
   ]
  },
  {
   "cell_type": "code",
   "execution_count": null,
   "id": "a7a1f80f",
   "metadata": {},
   "outputs": [
    {
     "name": "stdout",
     "output_type": "stream",
     "text": [
      "apple\n",
      "banana\n",
      "cherry\n",
      "grapes\n"
     ]
    }
   ],
   "source": [
    "#   Print the elements of a list      \n",
    "         #   \"Print the elements of a list\" — this usually means: One element per line or individually.\n",
    "#   items = [\"apple\", \"banana\", \"cherry\", \"grapes\"]\n",
    "\n",
    "items = [\"apple\", \"banana\", \"cherry\", \"grapes\"]  # A list in Python is written using square brackets [], with elements separated by commas.\n",
    "for item in items :   # It means: \"Take each element named item from the items list, one by one.\"\n",
    "                      #  First, item = \"apple\", then \"banana\", then \"cherry\", and finally \"grapes\".\n",
    "   print(item)     # This prints the current value of item on a new line each time the loop runs."
   ]
  },
  {
   "cell_type": "code",
   "execution_count": 39,
   "id": "1b8389f8",
   "metadata": {},
   "outputs": [
    {
     "name": "stdout",
     "output_type": "stream",
     "text": [
      "4\n",
      "8\n",
      "12\n",
      "16\n",
      "20\n",
      "24\n",
      "28\n",
      "32\n",
      "36\n",
      "40\n"
     ]
    }
   ],
   "source": [
    "#    Print multiplication table of n\n",
    "n = 4\n",
    "i = 1\n",
    "for i in range(1, 11) :\n",
    "    print(n*i)"
   ]
  },
  {
   "cell_type": "code",
   "execution_count": 57,
   "id": "8adc64d7",
   "metadata": {},
   "outputs": [
    {
     "name": "stdout",
     "output_type": "stream",
     "text": [
      "5\n"
     ]
    }
   ],
   "source": [
    "#   Count the number of vowels in a string\n",
    "#   sentence = \"programming is fun\"\n",
    "\n",
    "sentence = \"programming is fun\"\n",
    "count = 0\n",
    "vowels = \"aeiou\"\n",
    "for char in sentence :\n",
    "    if char in vowels :\n",
    "      count+=1\n",
    "print(count)\n"
   ]
  },
  {
   "cell_type": "code",
   "execution_count": null,
   "id": "73234e7b",
   "metadata": {},
   "outputs": [
    {
     "name": "stdout",
     "output_type": "stream",
     "text": [
      "2\n",
      "8\n"
     ]
    }
   ],
   "source": [
    "#   Create a list of 5 numbers and print only the even ones.\n",
    "\n",
    "n = [2, 5, 8, 3, 9]\n",
    "for i in n :                   #  i is a temporary variable that takes each value from the list one by one\n",
    "    if(i%2==0) :\n",
    "         print(i)    \n"
   ]
  },
  {
   "cell_type": "code",
   "execution_count": 69,
   "id": "5c749754",
   "metadata": {},
   "outputs": [
    {
     "name": "stdout",
     "output_type": "stream",
     "text": [
      "75\n"
     ]
    }
   ],
   "source": [
    "#   Find the sum of all numbers in the list:\n",
    "#   nums = [5, 10, 15, 20, 25]\n",
    "\n",
    "nums = [5, 10, 15, 20, 25]\n",
    "sum = 0\n",
    "for i in nums :\n",
    "    sum+=i\n",
    "print(sum)"
   ]
  },
  {
   "cell_type": "code",
   "execution_count": 71,
   "id": "5f563417",
   "metadata": {},
   "outputs": [
    {
     "name": "stdout",
     "output_type": "stream",
     "text": [
      "olleh\n"
     ]
    }
   ],
   "source": [
    "#   Reverse a given string using a loop:\n",
    "#   Example: \"hello\" → \"olleh\"\n",
    "\n",
    "str = \"hello\"\n",
    "reversed_String = \"\"\n",
    "for i in str :\n",
    "    reversed_String = i+reversed_String\n",
    "print(reversed_String)"
   ]
  },
  {
   "cell_type": "code",
   "execution_count": null,
   "id": "14ab5588",
   "metadata": {},
   "outputs": [
    {
     "name": "stdout",
     "output_type": "stream",
     "text": [
      "9\n"
     ]
    }
   ],
   "source": [
    "#   Find the largest number in a list:\n",
    "#   nums = [4, 7, 2, 9, 1]\n",
    "\n",
    "nums = [4, 7, 2, 9, 1]\n",
    "print(max(nums))\n"
   ]
  },
  {
   "cell_type": "code",
   "execution_count": null,
   "id": "ec178f24",
   "metadata": {},
   "outputs": [
    {
     "name": "stdout",
     "output_type": "stream",
     "text": [
      "9\n"
     ]
    }
   ],
   "source": [
    "num = [4, 7, 2, 9, 1]\n",
    "largest = num[0]         #  Assume the first number (4) is the largest.    (So now: largest = 4)\n",
    "for i in num :           #  Loop through all numbers in the list\n",
    "    if i > largest:      # If current number is bigger than largest\n",
    "        largest = i      # Update the largest\n",
    "print(largest)"
   ]
  },
  {
   "cell_type": "code",
   "execution_count": 86,
   "id": "4a4e70f1",
   "metadata": {},
   "outputs": [
    {
     "name": "stdout",
     "output_type": "stream",
     "text": [
      "9\n",
      "6\n",
      "12\n"
     ]
    }
   ],
   "source": [
    "#   Create a list of 5 numbers and print only the ones divisible by 3.\n",
    "#   Example: [9, 4, 6, 2, 12]\n",
    "\n",
    "nums = [9, 4, 6, 2, 12]\n",
    "for i in nums :\n",
    "    if(i%3==0) :\n",
    "        print(i)"
   ]
  },
  {
   "cell_type": "code",
   "execution_count": 93,
   "id": "e4c87d81",
   "metadata": {},
   "outputs": [
    {
     "name": "stdout",
     "output_type": "stream",
     "text": [
      "3\n"
     ]
    }
   ],
   "source": [
    "#   Count how many even numbers are in this list:\n",
    "#   nums = [2, 5, 8, 3, 10, 7]\n",
    "\n",
    "num = [2, 5, 8, 3, 10, 7]\n",
    "count = 0\n",
    "for i in num :\n",
    "    if(i%2==0) :\n",
    "        count += 1\n",
    "print(count)\n",
    "\n"
   ]
  }
 ],
 "metadata": {
  "kernelspec": {
   "display_name": "Python 3",
   "language": "python",
   "name": "python3"
  },
  "language_info": {
   "codemirror_mode": {
    "name": "ipython",
    "version": 3
   },
   "file_extension": ".py",
   "mimetype": "text/x-python",
   "name": "python",
   "nbconvert_exporter": "python",
   "pygments_lexer": "ipython3",
   "version": "3.10.0"
  }
 },
 "nbformat": 4,
 "nbformat_minor": 5
}
