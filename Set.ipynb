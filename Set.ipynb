{
 "cells": [
  {
   "cell_type": "code",
   "execution_count": 1,
   "id": "cf080001",
   "metadata": {},
   "outputs": [
    {
     "name": "stdout",
     "output_type": "stream",
     "text": [
      "{1, 2, 3, 4, 'world', 'hello'}\n",
      "<class 'set'>\n"
     ]
    }
   ],
   "source": [
    "collection = {1,2,3,4, \"hello\", \"world\"}\n",
    "print(collection)\n",
    "print(type(collection))"
   ]
  },
  {
   "cell_type": "code",
   "execution_count": 2,
   "id": "7da5595d",
   "metadata": {},
   "outputs": [
    {
     "name": "stdout",
     "output_type": "stream",
     "text": [
      "{1, 2, 3, 4}\n",
      "4\n"
     ]
    }
   ],
   "source": [
    "colletion = {1,2,3,2,4,2,2}\n",
    "print(colletion)\n",
    "# Duplicates are not allowed\n",
    "print(len(colletion))"
   ]
  },
  {
   "cell_type": "code",
   "execution_count": 3,
   "id": "89d2b93b",
   "metadata": {},
   "outputs": [
    {
     "name": "stdout",
     "output_type": "stream",
     "text": [
      "{1, 2, 3, 4, 'world', 7, 9, 'hello'}\n"
     ]
    }
   ],
   "source": [
    "colletion = {1,2,3,2,7,4,2,2,9,2,4, \"hello\", \"world\", \"hello\"}\n",
    "print(colletion)\n",
    "# unordered elements"
   ]
  },
  {
   "cell_type": "code",
   "execution_count": 4,
   "id": "f9d26ae2",
   "metadata": {},
   "outputs": [
    {
     "name": "stdout",
     "output_type": "stream",
     "text": [
      "set()\n",
      "<class 'set'>\n"
     ]
    }
   ],
   "source": [
    "colletion = set()    # Empty Set\n",
    "print(colletion)\n",
    "print(type(colletion))"
   ]
  }
 ],
 "metadata": {
  "kernelspec": {
   "display_name": "Python 3",
   "language": "python",
   "name": "python3"
  },
  "language_info": {
   "codemirror_mode": {
    "name": "ipython",
    "version": 3
   },
   "file_extension": ".py",
   "mimetype": "text/x-python",
   "name": "python",
   "nbconvert_exporter": "python",
   "pygments_lexer": "ipython3",
   "version": "3.10.0"
  }
 },
 "nbformat": 4,
 "nbformat_minor": 5
}
