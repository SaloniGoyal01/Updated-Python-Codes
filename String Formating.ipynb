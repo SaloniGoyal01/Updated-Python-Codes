{
 "cells": [
  {
   "cell_type": "code",
   "execution_count": null,
   "id": "1c86b115",
   "metadata": {},
   "outputs": [
    {
     "name": "stdout",
     "output_type": "stream",
     "text": [
      "My name is Saloni Goyal\n"
     ]
    }
   ],
   "source": [
    "#   Regular string\n",
    "\n",
    "txt = \"My name is Saloni Goyal\"\n",
    "print(txt)"
   ]
  },
  {
   "cell_type": "code",
   "execution_count": null,
   "id": "818c52ce",
   "metadata": {},
   "outputs": [
    {
     "name": "stdout",
     "output_type": "stream",
     "text": [
      "My name is Saloni Goyal\n"
     ]
    }
   ],
   "source": [
    "#   f-string (formatted string)\n",
    "\n",
    "txt = f\"My name is Saloni Goyal\"\n",
    "print(txt)"
   ]
  },
  {
   "cell_type": "code",
   "execution_count": 21,
   "id": "6cec3ccd",
   "metadata": {},
   "outputs": [
    {
     "name": "stdout",
     "output_type": "stream",
     "text": [
      "My name is Saloni Goyal\n",
      "<class 'str'>\n"
     ]
    }
   ],
   "source": [
    "name = \"Saloni Goyal\"\n",
    "txt = f\"My name is {name}\"\n",
    "print(txt)\n",
    "print(type(txt))"
   ]
  },
  {
   "cell_type": "code",
   "execution_count": 22,
   "id": "2a8eae1b",
   "metadata": {},
   "outputs": [
    {
     "name": "stdout",
     "output_type": "stream",
     "text": [
      "My name is {name}\n"
     ]
    }
   ],
   "source": [
    "#  Placeholders and Modifiers\n",
    "#  To format values in an f-string, add placeholders {}, a placeholder can contain variables, operations, functions, and modifiers to format the value.\n",
    "name = \"Saloni Goyal\"\n",
    "txt = \"My name is {name}\"\n",
    "print(txt)"
   ]
  },
  {
   "cell_type": "code",
   "execution_count": 29,
   "id": "e2322510",
   "metadata": {},
   "outputs": [
    {
     "name": "stdout",
     "output_type": "stream",
     "text": [
      "My age is 19\n",
      "<class 'str'>\n"
     ]
    }
   ],
   "source": [
    "age = 19\n",
    "txt = f\"My age is {age}\"\n",
    "print(txt)\n",
    "print(type(txt))"
   ]
  },
  {
   "cell_type": "code",
   "execution_count": 30,
   "id": "e3a3468f",
   "metadata": {},
   "outputs": [
    {
     "name": "stdout",
     "output_type": "stream",
     "text": [
      "My age is 19.00\n"
     ]
    }
   ],
   "source": [
    "# A placeholder can also include a modifier to format the value.\n",
    "# A modifier is included by adding a colon : followed by a legal formatting type, like .2f which means fixed point number with 2 decimals:\n",
    "\n",
    "age = 19\n",
    "txt = f\"My age is {age:.2f}\"\n",
    "print(txt)"
   ]
  },
  {
   "cell_type": "code",
   "execution_count": 31,
   "id": "e3eef891",
   "metadata": {},
   "outputs": [
    {
     "name": "stdout",
     "output_type": "stream",
     "text": [
      "My age is 19.0\n"
     ]
    }
   ],
   "source": [
    "#  You can also format a value directly without keeping it in a variable:\n",
    "\n",
    "txt = f\"My age is {19:.1f}\"\n",
    "print(txt)"
   ]
  },
  {
   "cell_type": "code",
   "execution_count": 32,
   "id": "1e24db23",
   "metadata": {},
   "outputs": [
    {
     "name": "stdout",
     "output_type": "stream",
     "text": [
      "My age in 5 years will be 24\n"
     ]
    }
   ],
   "source": [
    "# You can perform Python operations inside the placeholders.\n",
    "# You can do math operations:\n",
    "\n",
    "txt = f\"My age in 5 years will be {19+5}\"\n",
    "print(txt)\n",
    "\n"
   ]
  },
  {
   "cell_type": "code",
   "execution_count": 33,
   "id": "6221f5ee",
   "metadata": {},
   "outputs": [
    {
     "name": "stdout",
     "output_type": "stream",
     "text": [
      "My age in 19 years will be 38\n"
     ]
    }
   ],
   "source": [
    "# You can perform math operations on variables:\n",
    "\n",
    "age = 19\n",
    "after19 = age*2\n",
    "txt = f\"My age in 19 years will be {after19}\"\n",
    "print(txt)"
   ]
  },
  {
   "cell_type": "code",
   "execution_count": 34,
   "id": "b2abfb52",
   "metadata": {},
   "outputs": [
    {
     "name": "stdout",
     "output_type": "stream",
     "text": [
      "My age is 19 and I can vote\n",
      "<class 'str'>\n"
     ]
    }
   ],
   "source": [
    "#  You can perform if...else statements inside the placeholders:\n",
    "\n",
    "age = 19\n",
    "txt = f\"My age is {age} and I can {'vote' if age>=18 else 'not vote'}\"\n",
    "print(txt)\n",
    "print(type(txt))"
   ]
  },
  {
   "cell_type": "code",
   "execution_count": null,
   "id": "4af33774",
   "metadata": {},
   "outputs": [
    {
     "name": "stdout",
     "output_type": "stream",
     "text": [
      "marks are 98 and get prize\n"
     ]
    }
   ],
   "source": [
    "marks = 98\n",
    "txt = f\"marks are {marks} and {'get prize' if marks >= 90 else 'no prize'}\"\n",
    "print(txt)"
   ]
  },
  {
   "cell_type": "code",
   "execution_count": 36,
   "id": "80c9d73f",
   "metadata": {},
   "outputs": [
    {
     "name": "stdout",
     "output_type": "stream",
     "text": [
      "I Love MANGO\n"
     ]
    }
   ],
   "source": [
    "#   Use the string method upper()to convert a value into upper case letters:\n",
    "\n",
    "fruit = \"Mango\"\n",
    "txt = f\"I Love {fruit.upper()}\"\n",
    "print(txt)"
   ]
  },
  {
   "cell_type": "code",
   "execution_count": 39,
   "id": "fed98469",
   "metadata": {},
   "outputs": [
    {
     "name": "stdout",
     "output_type": "stream",
     "text": [
      "I Love apple\n"
     ]
    }
   ],
   "source": [
    "fruit = \"Apple\"\n",
    "txt = f\"I Love {fruit.lower()}\"\n",
    "print(txt)"
   ]
  },
  {
   "cell_type": "code",
   "execution_count": null,
   "id": "72f5d223",
   "metadata": {},
   "outputs": [
    {
     "name": "stdout",
     "output_type": "stream",
     "text": [
      "The value of converter 30.48\n"
     ]
    }
   ],
   "source": [
    "#  The function does not have to be a built-in Python method, you can create your own functions and use them:\n",
    "#  Create a function that converts feet into meters:\n",
    "\n",
    "def myConverter(x) :\n",
    "    return x*0.3048\n",
    "txt = f\"The value of converter {myConverter(100)}\"\n",
    "print(txt)"
   ]
  },
  {
   "cell_type": "code",
   "execution_count": 52,
   "id": "01136ea2",
   "metadata": {},
   "outputs": [
    {
     "name": "stdout",
     "output_type": "stream",
     "text": [
      "price is 50,000\n"
     ]
    }
   ],
   "source": [
    "#  Use a comma as a thousand separator:\n",
    "\n",
    "price = 50000\n",
    "txt = f\"price is {price:,}\"\n",
    "print(txt)"
   ]
  },
  {
   "cell_type": "code",
   "execution_count": 56,
   "id": "74cf14c9",
   "metadata": {},
   "outputs": [
    {
     "name": "stdout",
     "output_type": "stream",
     "text": [
      "price is 500,000,000\n"
     ]
    }
   ],
   "source": [
    "price = 500000000\n",
    "txt = f\"price is {price:,}\"\n",
    "print(txt)"
   ]
  },
  {
   "cell_type": "code",
   "execution_count": null,
   "id": "fa122284",
   "metadata": {},
   "outputs": [
    {
     "name": "stdout",
     "output_type": "stream",
     "text": [
      "We have  5         Mangoes\n"
     ]
    }
   ],
   "source": [
    "#  :<  (Left aligns)\n",
    "\n",
    "mangoes = 5\n",
    "\n",
    "# Create a formatted string using f-string\n",
    "# {mangoes :< 10} means:\n",
    "# - Insert the value of 'mangoes'\n",
    "# - Left-align the value within a field width of 10 characters\n",
    "# - So, 5 will be printed followed by 9 spaces\n",
    "txt = f\"We have {mangoes :< 10} Mangoes\"\n",
    "print(txt)\n",
    "\n",
    "#  Notice: 5 is followed by 9 spaces because the total width is set to 10\n",
    "#  This is useful for formatting data in aligned columns or tables"
   ]
  },
  {
   "cell_type": "code",
   "execution_count": null,
   "id": "2ed46905",
   "metadata": {},
   "outputs": [
    {
     "name": "stdout",
     "output_type": "stream",
     "text": [
      "We have                   10 Apples\n"
     ]
    }
   ],
   "source": [
    "#  :>  (Right aligns)\n",
    "\n",
    "apples = 10\n",
    "txt = f\"We have {apples :> 20} Apples\"\n",
    "print(txt)\n",
    "\n",
    "#  We have ••••••••••••••••••10 Apples\n",
    "#         ← 18 spaces →     ↑ right aligned\n",
    "\n",
    "#  Why 18 spaces?\n",
    "# Total width = 20 characters\n",
    "# Number 10 takes 2 characters\n",
    "# So 20 - 2 = 18 spaces before the 10\n",
    "\n"
   ]
  },
  {
   "cell_type": "code",
   "execution_count": 70,
   "id": "e3770965",
   "metadata": {},
   "outputs": [
    {
     "name": "stdout",
     "output_type": "stream",
     "text": [
      "price is 20 dollars\n"
     ]
    }
   ],
   "source": [
    "# String format()\n",
    "# Before Python 3.6 we used the format() method to format strings.\n",
    "# The format() method can still be used, but f-strings are faster and the preferred way to format strings.\n",
    "# The format() method also uses curly brackets as placeholders {}, but the syntax is slightly different:\n",
    "\n",
    "price = 20\n",
    "txt = \"price is {} dollars\"\n",
    "print(txt.format(price))\n"
   ]
  },
  {
   "cell_type": "code",
   "execution_count": null,
   "id": "5686035a",
   "metadata": {},
   "outputs": [
    {
     "name": "stdout",
     "output_type": "stream",
     "text": [
      "price is 20.000 dollars\n"
     ]
    }
   ],
   "source": [
    "#  Format the price to be displayed as a number with three decimals:\n",
    "\n",
    "price = 20\n",
    "txt = \"price is {:.3f} dollars\"\n",
    "print(txt.format(price))"
   ]
  },
  {
   "cell_type": "code",
   "execution_count": null,
   "id": "8e0f3ed9",
   "metadata": {},
   "outputs": [
    {
     "name": "stdout",
     "output_type": "stream",
     "text": [
      "I want 10 quantity of 5 item in 3 dollars\n"
     ]
    }
   ],
   "source": [
    "#  Multiple Values\n",
    "\n",
    "quantity = 10\n",
    "item = 5\n",
    "price = 3\n",
    "txt = \"I want {} quantity of {} item in {} dollars\"\n",
    "print(txt.format(quantity, item, price))"
   ]
  },
  {
   "cell_type": "code",
   "execution_count": 82,
   "id": "3aa4bccf",
   "metadata": {},
   "outputs": [
    {
     "name": "stdout",
     "output_type": "stream",
     "text": [
      "I want 10 quantity of 5 item in 3.00 dollars\n"
     ]
    }
   ],
   "source": [
    "#  Index Numbers\n",
    "#  You can use index numbers (a number inside the curly brackets {0}) to be sure the values are placed in the correct placeholders:\n",
    "\n",
    "quantity = 10\n",
    "item = 5\n",
    "price = 3\n",
    "txt = \"I want {0} quantity of {1} item in {2:.2f} dollars\"\n",
    "print(txt.format(quantity, item, price))"
   ]
  },
  {
   "cell_type": "code",
   "execution_count": null,
   "id": "427b73c1",
   "metadata": {},
   "outputs": [
    {
     "name": "stdout",
     "output_type": "stream",
     "text": [
      "His name is Harsh Goyal. Harsh Goyal is 23 years old.\n"
     ]
    }
   ],
   "source": [
    "#   if you want to refer to the same value more than once, use the index number:\n",
    "\n",
    "age = 23\n",
    "name = \"Harsh Goyal\"\n",
    "txt = \"His name is {1}. {1} is {0} years old.\"\n",
    "print(txt.format(age, name))"
   ]
  },
  {
   "cell_type": "code",
   "execution_count": 87,
   "id": "3f6571e9",
   "metadata": {},
   "outputs": [
    {
     "name": "stdout",
     "output_type": "stream",
     "text": [
      "I have a Ford, It is a Mustang\n"
     ]
    }
   ],
   "source": [
    "#  You can also use named indexes by entering a name inside the curly brackets {carname}, \n",
    "# but then you must use names when you pass the parameter values txt.format(carname = \"Ford\"):\n",
    "\n",
    "myOrder = \"I have a {carname}, It is a {model}\" \n",
    "print(myOrder.format(carname = \"Ford\", model = \"Mustang\"))"
   ]
  }
 ],
 "metadata": {
  "kernelspec": {
   "display_name": "Python 3",
   "language": "python",
   "name": "python3"
  },
  "language_info": {
   "codemirror_mode": {
    "name": "ipython",
    "version": 3
   },
   "file_extension": ".py",
   "mimetype": "text/x-python",
   "name": "python",
   "nbconvert_exporter": "python",
   "pygments_lexer": "ipython3",
   "version": "3.10.0"
  }
 },
 "nbformat": 4,
 "nbformat_minor": 5
}
