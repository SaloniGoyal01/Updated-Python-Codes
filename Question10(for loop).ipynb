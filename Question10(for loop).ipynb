{
 "cells": [
  {
   "cell_type": "code",
   "execution_count": 1,
   "id": "5708bd31",
   "metadata": {},
   "outputs": [
    {
     "name": "stdout",
     "output_type": "stream",
     "text": [
      "1\n",
      "4\n",
      "16\n",
      "25\n",
      "36\n",
      "49\n",
      "64\n",
      "81\n",
      "100\n"
     ]
    }
   ],
   "source": [
    "#   Print the elements of the following list using for loop\n",
    "#   [1, 4, 16, 25 ,36, 49, 64, 81, 100]\n",
    "\n",
    "values = [1, 4, 16, 25 ,36, 49, 64, 81, 100]\n",
    "for num in values :\n",
    "    print(num)"
   ]
  },
  {
   "cell_type": "code",
   "execution_count": 10,
   "id": "06149e9f",
   "metadata": {},
   "outputs": [
    {
     "name": "stdout",
     "output_type": "stream",
     "text": [
      "x found at idx : 3\n"
     ]
    }
   ],
   "source": [
    "#   Search for a no. x in this tuple using for loop :\n",
    "#   (1, 4, 16, 25 ,36, 49, 64, 81, 100)\n",
    "\n",
    "values = (1, 4, 16, 25, 36, 49, 64, 81, 100)\n",
    "x = 25\n",
    "idx = 0\n",
    "for num in values :\n",
    "    if(x == num) :\n",
    "        print(\"x found at idx :\", idx)    \n",
    "    idx+=1"
   ]
  },
  {
   "cell_type": "code",
   "execution_count": 1,
   "id": "19d63695",
   "metadata": {},
   "outputs": [
    {
     "name": "stdout",
     "output_type": "stream",
     "text": [
      "index ofx is 1\n"
     ]
    }
   ],
   "source": [
    "#  (1, 4, 9, 16, 25, 36, 49, 64, 81, 100)\n",
    "\n",
    "list = (1, 4, 9, 16, 25, 36, 49, 64, 81, 100)\n",
    "x = 4\n",
    "print(\"index ofx is\", list.index(x))"
   ]
  },
  {
   "cell_type": "code",
   "execution_count": 2,
   "id": "3e8df496",
   "metadata": {},
   "outputs": [
    {
     "name": "stdout",
     "output_type": "stream",
     "text": [
      "x found at idx 2\n",
      "x found at idx 5\n",
      "x found at idx 7\n",
      "x found at idx 9\n"
     ]
    }
   ],
   "source": [
    "values = (1, 4, 49, 16, 25, 49, 81, 49, 100, 49)\n",
    "x = 49\n",
    "idx = 0\n",
    "for num in values :\n",
    "    if(num == x) :\n",
    "        print(\"x found at idx\", idx)      \n",
    "    idx += 1"
   ]
  }
 ],
 "metadata": {
  "kernelspec": {
   "display_name": "Python 3",
   "language": "python",
   "name": "python3"
  },
  "language_info": {
   "codemirror_mode": {
    "name": "ipython",
    "version": 3
   },
   "file_extension": ".py",
   "mimetype": "text/x-python",
   "name": "python",
   "nbconvert_exporter": "python",
   "pygments_lexer": "ipython3",
   "version": "3.10.0"
  }
 },
 "nbformat": 4,
 "nbformat_minor": 5
}
