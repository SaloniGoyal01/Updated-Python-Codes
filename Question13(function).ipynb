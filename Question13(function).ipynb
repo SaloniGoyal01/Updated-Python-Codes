{
 "cells": [
  {
   "cell_type": "code",
   "execution_count": null,
   "id": "e1b66f55",
   "metadata": {},
   "outputs": [
    {
     "name": "stdout",
     "output_type": "stream",
     "text": [
      "4\n",
      "5\n"
     ]
    }
   ],
   "source": [
    "#   WAF to print the length of a list. (list is the parameter)\n",
    "\n",
    "cities = [\"delhi\", \"gurgaon\", \"noida\", \"pune\", \"mumbai\"] \n",
    "country = [\"india\", \"usa\", \"rusia\", \"china\"]\n",
    "def print_len(list) :\n",
    "    return(len(list))\n",
    "print(print_len(country))\n",
    "print(print_len(cities))\n"
   ]
  },
  {
   "cell_type": "code",
   "execution_count": null,
   "id": "c2ac4989",
   "metadata": {},
   "outputs": [
    {
     "data": {
      "text/plain": [
       "5"
      ]
     },
     "execution_count": 34,
     "metadata": {},
     "output_type": "execute_result"
    }
   ],
   "source": [
    "cities = [\"delhi\", \"gurgaon\", \"noida\", \"pune\", \"mumbai\"] \n",
    "country = [\"india\", \"usa\", \"rusia\", \"china\"]\n",
    "def print_len(list) :   \n",
    "    return len(list)\n",
    "print_len(cities)"
   ]
  },
  {
   "cell_type": "code",
   "execution_count": 59,
   "id": "a2e79e14",
   "metadata": {},
   "outputs": [
    {
     "name": "stdout",
     "output_type": "stream",
     "text": [
      "['delhi', 'gurgaon', 'noida', 'pune', 'mumbai'] ['india', 'usa', 'rusia', 'china']\n"
     ]
    }
   ],
   "source": [
    "#   WAF to print the elements of a list in a single line. (list is the parameter)\n",
    "\n",
    "cities = [\"delhi\", \"gurgaon\", \"noida\", \"pune\", \"mumbai\"] \n",
    "country = [\"india\", \"usa\", \"rusia\", \"china\"]\n",
    "def print_el(list) :\n",
    "    return list\n",
    "print(print_el(cities), end=\" \")\n",
    "print(print_el(country))\n"
   ]
  },
  {
   "cell_type": "code",
   "execution_count": 70,
   "id": "961c1c70",
   "metadata": {},
   "outputs": [
    {
     "name": "stdout",
     "output_type": "stream",
     "text": [
      "120\n"
     ]
    }
   ],
   "source": [
    "#   WAF to find the factorial of n. (n is the parameter)\n",
    "\n",
    "def fact(n) :\n",
    "    fact = 1\n",
    "    for i in range(1, n+1) :\n",
    "        fact*=i\n",
    "    return fact\n",
    "print(fact(5))\n",
    "\n"
   ]
  },
  {
   "cell_type": "code",
   "execution_count": 77,
   "id": "864ba093",
   "metadata": {},
   "outputs": [
    {
     "name": "stdout",
     "output_type": "stream",
     "text": [
      "1 usd_val :  inr_val 83\n",
      "2 usd_val :  inr_val 166\n"
     ]
    }
   ],
   "source": [
    "#   WAF to convert USD to INR\n",
    "\n",
    "def calculator(usd_val) :\n",
    "    inr_val = usd_val*83\n",
    "    print(usd_val, \"usd_val : \", \"inr_val\", inr_val)\n",
    "calculator(1)\n",
    "calculator(2)"
   ]
  }
 ],
 "metadata": {
  "kernelspec": {
   "display_name": "Python 3",
   "language": "python",
   "name": "python3"
  },
  "language_info": {
   "codemirror_mode": {
    "name": "ipython",
    "version": 3
   },
   "file_extension": ".py",
   "mimetype": "text/x-python",
   "name": "python",
   "nbconvert_exporter": "python",
   "pygments_lexer": "ipython3",
   "version": "3.10.0"
  }
 },
 "nbformat": 4,
 "nbformat_minor": 5
}
