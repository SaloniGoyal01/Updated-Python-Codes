{
 "cells": [
  {
   "cell_type": "code",
   "execution_count": 27,
   "id": "c8a0070a",
   "metadata": {},
   "outputs": [
    {
     "name": "stdout",
     "output_type": "stream",
     "text": [
      "15\n",
      "21\n"
     ]
    }
   ],
   "source": [
    "#   Write a recursive function to calculate the sum of first n natural numbers\n",
    "\n",
    "def sum(n) :\n",
    "    if(n == 0) :\n",
    "        return n\n",
    "    return sum(n-1) + n\n",
    "print(sum(5))\n",
    "print(sum(6))\n"
   ]
  },
  {
   "cell_type": "code",
   "execution_count": null,
   "id": "f3a884af",
   "metadata": {},
   "outputs": [
    {
     "name": "stdout",
     "output_type": "stream",
     "text": [
      "Mango\n",
      "Apple\n",
      "Banana\n"
     ]
    }
   ],
   "source": [
    "#   Write a recursive function to print all elements in a list. (Use list & index as parameters)\n",
    "\n",
    "def print_list(list, idx=0) :\n",
    "    if(idx == len(list)) :     # If index reaches the length of the list, stop the recursion\n",
    "        return      # Exit the function when all elements have been printed\n",
    "    print(list[idx])   # Print the current element at index 'idx'\n",
    "    print_list(list, idx+1)\n",
    " \n",
    "fruits = [\"Mango\", \"Apple\", \"Banana\"]     # Create a list of fruits\n",
    "print_list(fruits)                # Call the function to print all fruits in the list"
   ]
  }
 ],
 "metadata": {
  "kernelspec": {
   "display_name": "Python 3",
   "language": "python",
   "name": "python3"
  },
  "language_info": {
   "codemirror_mode": {
    "name": "ipython",
    "version": 3
   },
   "file_extension": ".py",
   "mimetype": "text/x-python",
   "name": "python",
   "nbconvert_exporter": "python",
   "pygments_lexer": "ipython3",
   "version": "3.10.0"
  }
 },
 "nbformat": 4,
 "nbformat_minor": 5
}
