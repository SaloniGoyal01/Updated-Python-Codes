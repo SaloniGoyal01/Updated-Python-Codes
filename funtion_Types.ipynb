{
 "cells": [
  {
   "cell_type": "code",
   "execution_count": 18,
   "id": "528dbf9b",
   "metadata": {},
   "outputs": [],
   "source": [
    "#   Built-in Functions  :-\n",
    "#  Print()\n",
    "#  len()\n",
    "#  type()\n",
    "#  range()"
   ]
  },
  {
   "cell_type": "code",
   "execution_count": 19,
   "id": "a32a951e",
   "metadata": {},
   "outputs": [
    {
     "name": "stdout",
     "output_type": "stream",
     "text": [
      "saloni goyal\n",
      "saloni\n",
      "goyal\n"
     ]
    }
   ],
   "source": [
    "print(\"saloni\", \"goyal\")\n",
    "print(\"saloni\")\n",
    "print(\"goyal\")"
   ]
  },
  {
   "cell_type": "code",
   "execution_count": 20,
   "id": "0dcc94e3",
   "metadata": {},
   "outputs": [
    {
     "name": "stdout",
     "output_type": "stream",
     "text": [
      "saloni goyal\n"
     ]
    }
   ],
   "source": [
    "print(\"saloni\", end=\" \")\n",
    "print(\"goyal\")"
   ]
  },
  {
   "cell_type": "code",
   "execution_count": 21,
   "id": "0b0e25d0",
   "metadata": {},
   "outputs": [
    {
     "name": "stdout",
     "output_type": "stream",
     "text": [
      "saloni $ goyal\n"
     ]
    }
   ],
   "source": [
    "print(\"saloni\", end=\" $ \")\n",
    "print(\"goyal\")"
   ]
  },
  {
   "cell_type": "code",
   "execution_count": 22,
   "id": "9627c7f4",
   "metadata": {},
   "outputs": [
    {
     "name": "stdout",
     "output_type": "stream",
     "text": [
      "3\n"
     ]
    }
   ],
   "source": [
    "#   User Defined Function  :-\n",
    "\n",
    "def cal(a=2, b=1) :\n",
    "    return a+b\n",
    "print(cal())"
   ]
  }
 ],
 "metadata": {
  "kernelspec": {
   "display_name": "Python 3",
   "language": "python",
   "name": "python3"
  },
  "language_info": {
   "codemirror_mode": {
    "name": "ipython",
    "version": 3
   },
   "file_extension": ".py",
   "mimetype": "text/x-python",
   "name": "python",
   "nbconvert_exporter": "python",
   "pygments_lexer": "ipython3",
   "version": "3.10.0"
  }
 },
 "nbformat": 4,
 "nbformat_minor": 5
}
