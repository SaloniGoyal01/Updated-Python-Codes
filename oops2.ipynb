{
 "cells": [
  {
   "cell_type": "code",
   "execution_count": 2,
   "id": "57c52457",
   "metadata": {},
   "outputs": [
    {
     "name": "stdout",
     "output_type": "stream",
     "text": [
      "Drive\n",
      "Sail\n",
      "Fly\n"
     ]
    }
   ],
   "source": [
    "#  Polymorphism means \"many forms\" — in OOP, it allows different classes to have methods with the same name but different behaviors.\n",
    "\n",
    "class Car:\n",
    "    def __init__(self, brand, model):\n",
    "        self.brand = brand\n",
    "        self.model = model\n",
    "\n",
    "    def move(self):\n",
    "        print(\"Drive\")\n",
    "\n",
    "\n",
    "class Boat:\n",
    "    def __init__(self, brand, model):\n",
    "        self.brand = brand\n",
    "        self.model = model\n",
    "\n",
    "    def move(self):\n",
    "        print(\"Sail\")\n",
    "\n",
    "\n",
    "class Plane:\n",
    "    def __init__(self, brand, model):\n",
    "        self.brand = brand\n",
    "        self.model = model\n",
    "\n",
    "    def move(self):\n",
    "        print(\"Fly\")\n",
    "\n",
    "\n",
    "c1 = Car(\"BMW\", \"X5\")\n",
    "B1 = Boat(\"Ibiza\", \"Sailboat\")\n",
    "P1 = Plane(\"Boeing\", \"747\")\n",
    "\n",
    "# for x in (c1, B1, P1):\n",
    "#     x.move()  # Calls the move method of each object\n",
    "\n",
    "c1.move()  # Output: Drive\n",
    "B1.move()  # Output: Sail       \n",
    "P1.move()  # Output: Fly"
   ]
  },
  {
   "cell_type": "code",
   "execution_count": 3,
   "id": "e59f1016",
   "metadata": {},
   "outputs": [
    {
     "name": "stdout",
     "output_type": "stream",
     "text": [
      "BMW\n",
      "X5\n",
      "Drive\n",
      "Ibiza\n",
      "Sailboat\n",
      "Sail\n",
      "Boeing\n",
      "747\n",
      "Fly\n"
     ]
    }
   ],
   "source": [
    "class Vehicle:\n",
    "    def __init__(self, brand, model):\n",
    "        self.brand = brand\n",
    "        self.model = model\n",
    "\n",
    "    def move(self):\n",
    "        print(\"Drive\")  \n",
    "\n",
    "\n",
    "class Car(Vehicle):\n",
    "    pass \n",
    "\n",
    "\n",
    "class Boat(Vehicle):\n",
    "    def move(self):\n",
    "        print(\"Sail\")\n",
    "\n",
    "\n",
    "class Plane(Vehicle):\n",
    "    def move(self):\n",
    "        print(\"Fly\")\n",
    "\n",
    "c1 = Car(\"BMW\", \"X5\")\n",
    "B1 = Boat(\"Ibiza\", \"Sailboat\")\n",
    "P1 = Plane(\"Boeing\", \"747\")\n",
    "\n",
    "for x in (c1, B1, P1):\n",
    "    print(x.brand)\n",
    "    print(x.model)\n",
    "    x.move()  # Calls the move method of each object"
   ]
  }
 ],
 "metadata": {
  "kernelspec": {
   "display_name": "Python 3",
   "language": "python",
   "name": "python3"
  },
  "language_info": {
   "codemirror_mode": {
    "name": "ipython",
    "version": 3
   },
   "file_extension": ".py",
   "mimetype": "text/x-python",
   "name": "python",
   "nbconvert_exporter": "python",
   "pygments_lexer": "ipython3",
   "version": "3.10.0"
  }
 },
 "nbformat": 4,
 "nbformat_minor": 5
}
