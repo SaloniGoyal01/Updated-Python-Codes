{
 "cells": [
  {
   "cell_type": "code",
   "execution_count": null,
   "id": "722e9adc",
   "metadata": {},
   "outputs": [],
   "source": [
    "# A lambda function in Python is a small anonymous function (i.e., without a name) \n",
    "# used for short, one-line operations."
   ]
  },
  {
   "cell_type": "code",
   "execution_count": null,
   "id": "0b9b3a3c",
   "metadata": {},
   "outputs": [
    {
     "name": "stdout",
     "output_type": "stream",
     "text": [
      "4\n",
      "40\n"
     ]
    }
   ],
   "source": [
    "double = lambda x: x*2\n",
    "print(double(2))\n",
    "print(double(20))"
   ]
  },
  {
   "cell_type": "code",
   "execution_count": 8,
   "id": "bcf90204",
   "metadata": {},
   "outputs": [
    {
     "name": "stdout",
     "output_type": "stream",
     "text": [
      "8\n",
      "27\n"
     ]
    }
   ],
   "source": [
    "cube = lambda x: x*x*x\n",
    "print(cube(2))\n",
    "print(cube(3))"
   ]
  },
  {
   "cell_type": "code",
   "execution_count": 11,
   "id": "bf87525e",
   "metadata": {},
   "outputs": [
    {
     "name": "stdout",
     "output_type": "stream",
     "text": [
      "15.0\n",
      "25.0\n"
     ]
    }
   ],
   "source": [
    "avg = lambda x,y: (x+y)/2\n",
    "print(avg(10,20))\n",
    "print(avg(20,30))"
   ]
  },
  {
   "cell_type": "code",
   "execution_count": 12,
   "id": "7171b10e",
   "metadata": {},
   "outputs": [
    {
     "name": "stdout",
     "output_type": "stream",
     "text": [
      "12\n"
     ]
    }
   ],
   "source": [
    "x = lambda a: a+10\n",
    "print(x(2))"
   ]
  },
  {
   "cell_type": "code",
   "execution_count": 13,
   "id": "09cc5900",
   "metadata": {},
   "outputs": [
    {
     "name": "stdout",
     "output_type": "stream",
     "text": [
      "10\n"
     ]
    }
   ],
   "source": [
    "x = lambda a,b,c: (a*b)+c\n",
    "print(x(2,3,4))"
   ]
  },
  {
   "cell_type": "code",
   "execution_count": 22,
   "id": "35802358",
   "metadata": {},
   "outputs": [
    {
     "name": "stdout",
     "output_type": "stream",
     "text": [
      "2\n"
     ]
    }
   ],
   "source": [
    "x = lambda a,b: a-b\n",
    "print(x(5,3))"
   ]
  },
  {
   "cell_type": "code",
   "execution_count": 23,
   "id": "bd8bb724",
   "metadata": {},
   "outputs": [
    {
     "name": "stdout",
     "output_type": "stream",
     "text": [
      "20\n"
     ]
    }
   ],
   "source": [
    "def myfunc(n):\n",
    "    return lambda x: x*n\n",
    "mydobler = myfunc(2)\n",
    "print(mydobler(10))"
   ]
  },
  {
   "cell_type": "code",
   "execution_count": 24,
   "id": "c5e1707c",
   "metadata": {},
   "outputs": [
    {
     "name": "stdout",
     "output_type": "stream",
     "text": [
      "30\n"
     ]
    }
   ],
   "source": [
    "def myfunc(n):\n",
    "    return lambda x: x*n\n",
    "mytripler = myfunc(3)\n",
    "print(mytripler(10))"
   ]
  },
  {
   "cell_type": "code",
   "execution_count": 25,
   "id": "344c56e6",
   "metadata": {},
   "outputs": [
    {
     "name": "stdout",
     "output_type": "stream",
     "text": [
      "20\n",
      "30\n",
      "6\n"
     ]
    }
   ],
   "source": [
    "def myfunc(n):\n",
    "    return lambda x: x*n\n",
    "\n",
    "mydoubler = myfunc(2)\n",
    "mytripler = myfunc(3)\n",
    "\n",
    "print(mydoubler(10))\n",
    "print(mytripler(10))\n",
    "print(mytripler(2))"
   ]
  }
 ],
 "metadata": {
  "kernelspec": {
   "display_name": "Python 3",
   "language": "python",
   "name": "python3"
  },
  "language_info": {
   "codemirror_mode": {
    "name": "ipython",
    "version": 3
   },
   "file_extension": ".py",
   "mimetype": "text/x-python",
   "name": "python",
   "nbconvert_exporter": "python",
   "pygments_lexer": "ipython3",
   "version": "3.10.0"
  }
 },
 "nbformat": 4,
 "nbformat_minor": 5
}
