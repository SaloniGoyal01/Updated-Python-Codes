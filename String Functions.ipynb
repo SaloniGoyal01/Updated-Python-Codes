{
 "cells": [
  {
   "cell_type": "code",
   "execution_count": 6,
   "id": "6e86e0ab",
   "metadata": {},
   "outputs": [
    {
     "name": "stdout",
     "output_type": "stream",
     "text": [
      "True\n",
      "False\n"
     ]
    }
   ],
   "source": [
    "str = \"Saloni Goyal\"\n",
    "print(str.endswith(\"al\"))          # true\n",
    "print(str.endswith(\"sa\"))          # false"
   ]
  },
  {
   "cell_type": "code",
   "execution_count": 7,
   "id": "34ee1126",
   "metadata": {},
   "outputs": [
    {
     "name": "stdout",
     "output_type": "stream",
     "text": [
      "Apple\n",
      "apple\n"
     ]
    }
   ],
   "source": [
    "str = \"apple\"\n",
    "print(str.capitalize())          # Apple\n",
    "print(str)                       # apple"
   ]
  },
  {
   "cell_type": "code",
   "execution_count": 10,
   "id": "1aa80b06",
   "metadata": {},
   "outputs": [
    {
     "name": "stdout",
     "output_type": "stream",
     "text": [
      "I am studyiag Pythoa\n"
     ]
    }
   ],
   "source": [
    "str = \"I am studying Python\"\n",
    "print(str.replace(\"n\", \"a\"))      # str = \"I am studying Python\""
   ]
  },
  {
   "cell_type": "code",
   "execution_count": 14,
   "id": "a182e2ea",
   "metadata": {},
   "outputs": [
    {
     "name": "stdout",
     "output_type": "stream",
     "text": [
      "I am studying ML\n"
     ]
    }
   ],
   "source": [
    "str = \"I am studying Python\"\n",
    "print(str.replace(\"Python\", \"ML\"))                      # str = \"I am studying Python\""
   ]
  },
  {
   "cell_type": "code",
   "execution_count": null,
   "id": "089aa621",
   "metadata": {},
   "outputs": [
    {
     "name": "stdout",
     "output_type": "stream",
     "text": [
      "3\n"
     ]
    }
   ],
   "source": [
    "str = \"Mango\"\n",
    "print(str.find(\"g\"))          # 3"
   ]
  },
  {
   "cell_type": "code",
   "execution_count": null,
   "id": "58f8aec9",
   "metadata": {},
   "outputs": [
    {
     "name": "stdout",
     "output_type": "stream",
     "text": [
      "0\n",
      "5\n",
      "5\n",
      "11\n",
      "-1\n",
      "-1\n"
     ]
    }
   ],
   "source": [
    "str = \"I am studying python\"\n",
    "print(str.find(\"I\"))          # 0\n",
    "print(str.find(\"s\"))          # 5\n",
    "print(str.find(\"studying\"))   # 5  \n",
    "print(str.find(\"n\"))          # 11\n",
    "print(str.find(\"z\"))          # -1"
   ]
  },
  {
   "cell_type": "code",
   "execution_count": null,
   "id": "1756ce9a",
   "metadata": {},
   "outputs": [
    {
     "name": "stdout",
     "output_type": "stream",
     "text": [
      "2\n",
      "5\n"
     ]
    }
   ],
   "source": [
    "str = \"I am from Rajasthan from India\"\n",
    "print(str.count(\"from\"))      # 2\n",
    "print(str.count(\"a\"))         # 5"
   ]
  }
 ],
 "metadata": {
  "kernelspec": {
   "display_name": "Python 3",
   "language": "python",
   "name": "python3"
  },
  "language_info": {
   "codemirror_mode": {
    "name": "ipython",
    "version": 3
   },
   "file_extension": ".py",
   "mimetype": "text/x-python",
   "name": "python",
   "nbconvert_exporter": "python",
   "pygments_lexer": "ipython3",
   "version": "3.10.0"
  }
 },
 "nbformat": 4,
 "nbformat_minor": 5
}
