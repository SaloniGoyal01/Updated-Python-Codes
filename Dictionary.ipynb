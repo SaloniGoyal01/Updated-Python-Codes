{
 "cells": [
  {
   "cell_type": "code",
   "execution_count": 6,
   "id": "909edcdd",
   "metadata": {},
   "outputs": [
    {
     "name": "stdout",
     "output_type": "stream",
     "text": [
      "{'key': 'value', 'name': 'Saloni', 'age': 19, 'learning': 'python', 'isAdult': True}\n",
      "Saloni\n",
      "{'key': 'value', 'name': 'Saloni', 'age': 19, 'learning': 'python', 'isAdult': True, 'sur_name': 'Goyal'}\n",
      "Goyal\n"
     ]
    }
   ],
   "source": [
    "info = {\n",
    "    \"key\" : \"value\",\n",
    "    \"name\" : \"Saloni\",\n",
    "    \"age\" : 19,\n",
    "    \"learning\" : \"python\",\n",
    "    \"isAdult\" : True\n",
    "}\n",
    "print(info)\n",
    "\n",
    "print(info[\"name\"])\n",
    "\n",
    "info[\"sur_name\"] = \"Goyal\"\n",
    "print(info)\n",
    "print(info[\"sur_name\"])"
   ]
  },
  {
   "cell_type": "code",
   "execution_count": 7,
   "id": "c697a01d",
   "metadata": {},
   "outputs": [
    {
     "name": "stdout",
     "output_type": "stream",
     "text": [
      "{'key': 'value', 'name': 'Saloni', 'age': 19, 'learning': 'python', 'isAdult': True}\n",
      "Seema\n",
      "{'key': 'value', 'name': 'Seema', 'age': 19, 'learning': 'python', 'isAdult': True}\n"
     ]
    }
   ],
   "source": [
    "info = {\n",
    "    \"key\" : \"value\",\n",
    "    \"name\" : \"Saloni\",\n",
    "    \"age\" : 19,\n",
    "    \"learning\" : \"python\",\n",
    "    \"isAdult\" : True\n",
    "}\n",
    "print(info)\n",
    "\n",
    "info[\"name\"] = \"Seema\"\n",
    "print(info[\"name\"])\n",
    "print(info)"
   ]
  },
  {
   "cell_type": "code",
   "execution_count": 8,
   "id": "2761ebdb",
   "metadata": {},
   "outputs": [
    {
     "name": "stdout",
     "output_type": "stream",
     "text": [
      "{}\n"
     ]
    }
   ],
   "source": [
    "null_dict = {}\n",
    "print(null_dict)"
   ]
  },
  {
   "cell_type": "code",
   "execution_count": 10,
   "id": "8314392a",
   "metadata": {},
   "outputs": [
    {
     "name": "stdout",
     "output_type": "stream",
     "text": [
      "{'name': 'Apple'}\n"
     ]
    }
   ],
   "source": [
    "null_dict = {}\n",
    "null_dict[\"name\"] = \"Apple\"\n",
    "print(null_dict)"
   ]
  },
  {
   "cell_type": "code",
   "execution_count": 13,
   "id": "b47f31a1",
   "metadata": {},
   "outputs": [
    {
     "name": "stdout",
     "output_type": "stream",
     "text": [
      "{'Name': 'Saloni', 'Score': {'C': 98, 'C++': 95, 'Python': 97}, 'Age': 19}\n",
      "{'C': 98, 'C++': 95, 'Python': 97}\n",
      "97\n"
     ]
    }
   ],
   "source": [
    "#  Nested Dictionary\n",
    "\n",
    "Student = {\n",
    "    \"Name\" : \"Saloni\",\n",
    "    \"Score\" : {\n",
    "        \"C\" : 98,\n",
    "        \"C++\" : 95,\n",
    "        \"Python\" : 97\n",
    "    },\n",
    "    \"Age\" : 19\n",
    "}\n",
    "print(Student)\n",
    "print(Student[\"Score\"])\n",
    "print(Student[\"Score\"][\"Python\"])"
   ]
  }
 ],
 "metadata": {
  "kernelspec": {
   "display_name": "Python 3",
   "language": "python",
   "name": "python3"
  },
  "language_info": {
   "codemirror_mode": {
    "name": "ipython",
    "version": 3
   },
   "file_extension": ".py",
   "mimetype": "text/x-python",
   "name": "python",
   "nbconvert_exporter": "python",
   "pygments_lexer": "ipython3",
   "version": "3.10.0"
  }
 },
 "nbformat": 4,
 "nbformat_minor": 5
}
