{
 "cells": [
  {
   "cell_type": "code",
   "execution_count": 1,
   "id": "a73d0d53",
   "metadata": {},
   "outputs": [
    {
     "name": "stdout",
     "output_type": "stream",
     "text": [
      "[99, 97.5, 90, 92.5]\n"
     ]
    }
   ],
   "source": [
    "marks = [99, 97.5, 90, 92.5]\n",
    "print(marks)"
   ]
  },
  {
   "cell_type": "code",
   "execution_count": null,
   "id": "45a734d5",
   "metadata": {},
   "outputs": [
    {
     "name": "stdout",
     "output_type": "stream",
     "text": [
      "<class 'list'>\n",
      "99\n"
     ]
    }
   ],
   "source": [
    "marks = [99, 97.5, 90, 92.5]\n",
    "print(type(marks))\n",
    "print(marks[0])"
   ]
  },
  {
   "cell_type": "code",
   "execution_count": 6,
   "id": "c535e39e",
   "metadata": {},
   "outputs": [
    {
     "name": "stdout",
     "output_type": "stream",
     "text": [
      "4\n"
     ]
    }
   ],
   "source": [
    "marks = [99, 97.5, 90, 92.5]\n",
    "print(len(marks))"
   ]
  },
  {
   "cell_type": "code",
   "execution_count": 8,
   "id": "24567bf3",
   "metadata": {},
   "outputs": [
    {
     "name": "stdout",
     "output_type": "stream",
     "text": [
      "['Ram', 99, 'Btech']\n",
      "Btech\n"
     ]
    }
   ],
   "source": [
    "#  It can store elements of different types (integer, float, string, etc.)\n",
    "Student = [\"Ram\", 99, \"Btech\"]\n",
    "print(Student)\n",
    "print(Student[2])"
   ]
  },
  {
   "cell_type": "code",
   "execution_count": 11,
   "id": "b1c5a6d3",
   "metadata": {},
   "outputs": [
    {
     "name": "stdout",
     "output_type": "stream",
     "text": [
      "['Ram', 99, 'Btech']\n",
      "['Ram', 100, 'Btech']\n",
      "['Shyam', 100, 'Btech']\n"
     ]
    }
   ],
   "source": [
    "# List is Mutable\n",
    "# Lists can be changed or modified after creation.\n",
    "\n",
    "Student = [\"Ram\", 99, \"Btech\"]\n",
    "print(Student)\n",
    "Student[1] = 100\n",
    "print(Student)\n",
    "Student[0] = \"Shyam\"\n",
    "print(Student)"
   ]
  },
  {
   "cell_type": "code",
   "execution_count": 19,
   "id": "5e69960f",
   "metadata": {},
   "outputs": [
    {
     "name": "stdout",
     "output_type": "stream",
     "text": [
      "[93, 99, 89]\n"
     ]
    }
   ],
   "source": [
    "# Slicing of List\n",
    "marks = [98, 95, 93, 99, 89, 87, 92, 97]\n",
    "print(marks[2:5])"
   ]
  },
  {
   "cell_type": "code",
   "execution_count": 24,
   "id": "7f960bec",
   "metadata": {},
   "outputs": [
    {
     "name": "stdout",
     "output_type": "stream",
     "text": [
      "[98]\n",
      "[95, 93, 99, 89, 87, 92, 97]\n",
      "[98, 95, 93, 99, 89, 87, 92, 97]\n",
      "[]\n"
     ]
    }
   ],
   "source": [
    "marks = [98, 95, 93, 99, 89, 87, 92, 97]\n",
    "print(marks[ :1])\n",
    "print(marks[1: ])\n",
    "print(marks[0: ])\n",
    "print(marks[ :0])"
   ]
  },
  {
   "cell_type": "code",
   "execution_count": 28,
   "id": "e4cdaab5",
   "metadata": {},
   "outputs": [
    {
     "name": "stdout",
     "output_type": "stream",
     "text": [
      "[97]\n",
      "[98, 95, 93, 99, 89, 87, 92]\n",
      "[98, 95, 93, 99, 89, 87, 92, 97]\n",
      "[]\n"
     ]
    }
   ],
   "source": [
    "marks = [98, 95, 93, 99, 89, 87, 92, 97]\n",
    "print(marks[7: ])\n",
    "print(marks[ :7])\n",
    "print(marks[ :8])\n",
    "print(marks[8: ])"
   ]
  },
  {
   "cell_type": "code",
   "execution_count": 30,
   "id": "75282407",
   "metadata": {},
   "outputs": [
    {
     "name": "stdout",
     "output_type": "stream",
     "text": [
      "[87]\n",
      "[99, 89, 87, 92]\n"
     ]
    }
   ],
   "source": [
    "marks = [98, 95, 93, 99, 89, 87, 92, 97]\n",
    "print(marks[-3:-2])\n",
    "print(marks[-5:-1])"
   ]
  }
 ],
 "metadata": {
  "kernelspec": {
   "display_name": "Python 3",
   "language": "python",
   "name": "python3"
  },
  "language_info": {
   "codemirror_mode": {
    "name": "ipython",
    "version": 3
   },
   "file_extension": ".py",
   "mimetype": "text/x-python",
   "name": "python",
   "nbconvert_exporter": "python",
   "pygments_lexer": "ipython3",
   "version": "3.10.0"
  }
 },
 "nbformat": 4,
 "nbformat_minor": 5
}
