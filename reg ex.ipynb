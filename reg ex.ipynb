{
 "cells": [
  {
   "cell_type": "code",
   "execution_count": 3,
   "id": "ee033c17",
   "metadata": {},
   "outputs": [
    {
     "name": "stdout",
     "output_type": "stream",
     "text": [
      "Yes, the string starts with 'The' and ends with 'plain'\n"
     ]
    }
   ],
   "source": [
    "# RegEx (short for Regular Expression) is a pattern used to search, match, or replace text.\n",
    "# Python uses the re module for working with RegEx.\n",
    "\n",
    "import re\n",
    "#  Check if the string starts with \"The\" and ends with \"plain\":\n",
    "text = \"The rain in Spain falls mainly in the plain\"\n",
    "\n",
    "# Use re.search() to check if the string:\n",
    "# - starts with \"The\" (using ^The)\n",
    "# - followed by anything (.*)\n",
    "# - ends with \"plain\" (using plain$)\n",
    "x = re.search(\"^The.*plain$\", text)\n",
    "if x:\n",
    "    print(\"Yes, the string starts with 'The' and ends with 'plain'\")\n",
    "else:\n",
    "    print(\"No match found\")\n"
   ]
  },
  {
   "cell_type": "code",
   "execution_count": null,
   "id": "da3ea7db",
   "metadata": {},
   "outputs": [
    {
     "name": "stdout",
     "output_type": "stream",
     "text": [
      "['ai', 'ai']\n"
     ]
    }
   ],
   "source": [
    "#  Print a list of all matches:\n",
    "\n",
    "import re\n",
    "# Return a list containing every occurrence of \"ai\":\n",
    "text = \"The rain in spain\"\n",
    "x = re.findall(\"ai\", text)\n",
    "print(x)"
   ]
  },
  {
   "cell_type": "code",
   "execution_count": 5,
   "id": "0b968820",
   "metadata": {},
   "outputs": [
    {
     "name": "stdout",
     "output_type": "stream",
     "text": [
      "[]\n"
     ]
    }
   ],
   "source": [
    "#  Return an empty list if no match was found:\n",
    "\n",
    "import re\n",
    "# Return a list containing every occurrence of \"xyz\":\n",
    "text = \"The rain in spain\"\n",
    "x = re.findall(\"xyz\", text)\n",
    "print(x)"
   ]
  },
  {
   "cell_type": "code",
   "execution_count": null,
   "id": "19d77242",
   "metadata": {},
   "outputs": [
    {
     "name": "stdout",
     "output_type": "stream",
     "text": [
      "The first white-space character is located at position:\n"
     ]
    }
   ],
   "source": [
    "#  Search for the first white-space character in the string:\n",
    "\n",
    "import re\n",
    "txt = \"The rain in Spain\"\n",
    "x = re.search(\"\\s\", txt)\n",
    "print(\"The first white-space character is located at position:\", x.start())"
   ]
  },
  {
   "cell_type": "code",
   "execution_count": 15,
   "id": "67ba3ea9",
   "metadata": {},
   "outputs": [
    {
     "name": "stdout",
     "output_type": "stream",
     "text": [
      "None\n"
     ]
    }
   ],
   "source": [
    "#  If no matches are found, the value None is returned:\n",
    "#  Make a search that returns no match:\n",
    "\n",
    "import re\n",
    "txt = \"The rain in Spain\"\n",
    "x = re.search(\"is\", txt)\n",
    "print(x)"
   ]
  },
  {
   "cell_type": "code",
   "execution_count": 16,
   "id": "a16bec96",
   "metadata": {},
   "outputs": [
    {
     "name": "stdout",
     "output_type": "stream",
     "text": [
      "No match found for 'is'\n"
     ]
    }
   ],
   "source": [
    "import re\n",
    "txt = \"The rain in Spain\"\n",
    "x = re.search(\"is\", txt)\n",
    "if x :\n",
    "    print(\"The first occurrence of 'is' is located at position:\", x.start())\n",
    "else :\n",
    "    print(\"No match found for 'is'\")"
   ]
  },
  {
   "cell_type": "code",
   "execution_count": 19,
   "id": "752d2c0e",
   "metadata": {},
   "outputs": [
    {
     "name": "stdout",
     "output_type": "stream",
     "text": [
      "['The', 'rain', 'in', 'Spain']\n"
     ]
    }
   ],
   "source": [
    "# The split() Function\n",
    "# The split() function returns a list where the string has been split at each match:\n",
    "\n",
    "import re\n",
    "txt = \"The rain in Spain\"\n",
    "x = re.split(\"\\s\", txt)\n",
    "print(x)"
   ]
  },
  {
   "cell_type": "code",
   "execution_count": 22,
   "id": "16bd582d",
   "metadata": {},
   "outputs": [
    {
     "name": "stdout",
     "output_type": "stream",
     "text": [
      "['The', 'rain', 'in Spain']\n"
     ]
    }
   ],
   "source": [
    "import re\n",
    "txt = \"The rain in Spain\"\n",
    "x = re.split(\"\\s\", txt, 2)  # Limit the number of splits to 2\n",
    "print(x)"
   ]
  },
  {
   "cell_type": "code",
   "execution_count": null,
   "id": "40eaec46",
   "metadata": {},
   "outputs": [
    {
     "name": "stdout",
     "output_type": "stream",
     "text": [
      "The$rain$in$Spain\n"
     ]
    }
   ],
   "source": [
    "# The sub() Function\n",
    "# The sub() function replaces the matches with the text of your choice:\n",
    "\n",
    "import re\n",
    "txt = \"The rain in Spain\"\n",
    "#  Replace all white-space characters with the digit \"9\":\n",
    "x = re.sub(\"\\s\", \"9\", txt)\n",
    "print(x)"
   ]
  },
  {
   "cell_type": "code",
   "execution_count": 31,
   "id": "3fb2f875",
   "metadata": {},
   "outputs": [
    {
     "name": "stdout",
     "output_type": "stream",
     "text": [
      "The ra$ $ Spain\n"
     ]
    }
   ],
   "source": [
    "import re\n",
    "txt = \"The rain in Spain\"\n",
    "#  Replace the first two occurrences of in with the $ character:\n",
    "x = re.sub(\"in\", \"$\", txt, 2)  # Limit the number of replacements to 2\n",
    "print(x)\n"
   ]
  },
  {
   "cell_type": "code",
   "execution_count": null,
   "id": "3870f759",
   "metadata": {},
   "outputs": [
    {
     "name": "stdout",
     "output_type": "stream",
     "text": [
      "<re.Match object; span=(5, 7), match='ai'>\n"
     ]
    }
   ],
   "source": [
    "# Match Object\n",
    "# A Match Object is an object containing information about the search and the result.\n",
    "# Note: If there is no match, the value None will be returned, instead of the Match Object.\n",
    "\n",
    "import re\n",
    "txt = \"The rain in Spain\"\n",
    "x = re.search(\"ai\", txt)\n",
    "print(x)\n"
   ]
  },
  {
   "cell_type": "code",
   "execution_count": null,
   "id": "8e897f3f",
   "metadata": {},
   "outputs": [
    {
     "name": "stdout",
     "output_type": "stream",
     "text": [
      "None\n"
     ]
    }
   ],
   "source": [
    "#  If there is no match, the value None will be returned, instead of the Match Object.\n",
    "\n",
    "import re\n",
    "txt = \"The rain in Spain\"\n",
    "x = re.search(\"is\", txt)\n",
    "print(x)"
   ]
  },
  {
   "cell_type": "code",
   "execution_count": null,
   "id": "7133737d",
   "metadata": {},
   "outputs": [
    {
     "name": "stdout",
     "output_type": "stream",
     "text": [
      "(0, 3)\n"
     ]
    }
   ],
   "source": [
    "import re\n",
    "txt = \"The rain in Spain\"\n",
    "\n",
    "# Search for a word that starts with uppercase 'S' using a regular expression\n",
    "# Pattern breakdown:\n",
    "# The r stands for raw, and it tells Python:\n",
    "# \"Don't treat backslashes \\ as special escape characters — just take the string literally.\"\n",
    "# \\b   → Word boundary (start of a word)\n",
    "# S    → Uppercase 'S'\n",
    "# \\w+  → One or more word characters (letters, digits, underscore)\n",
    "# So, \\bS\\w+ means: match a full word starting with 'S'\n",
    "x = re.search(r\"\\bS\\w+\", txt)\n",
    "print(x.span())   # .span() is a method → It returns a tuple containing the start-, and end positions of the match.\n",
    "\n",
    "# Text:  T  h  e     r  a  i  n     i  n     S  p  a  i  n\n",
    "# Index: 0  1  2  3  4  5  6  7  8  9 10 11 12 13 14 15 16\n",
    "# The word \"Spain\":\n",
    "# Starts at index 12 → 'S'\n",
    "# Ends at index 17 (Python slicing goes up to but not including index 17)\n"
   ]
  },
  {
   "cell_type": "code",
   "execution_count": null,
   "id": "e5847aa9",
   "metadata": {},
   "outputs": [
    {
     "name": "stdout",
     "output_type": "stream",
     "text": [
      "(0, 3)\n"
     ]
    }
   ],
   "source": [
    "import re\n",
    "txt = \"The rain in Spain\"\n",
    "x = re.search(r\"\\bT\\w+\", txt)\n",
    "print(x.span())\n",
    "\n",
    "#  'T' is at index 0\n",
    "#  Space ' ' is at index 3 → end of the word \"The\""
   ]
  },
  {
   "cell_type": "code",
   "execution_count": 55,
   "id": "7496ca0e",
   "metadata": {},
   "outputs": [
    {
     "name": "stdout",
     "output_type": "stream",
     "text": [
      "The rain in Spain\n"
     ]
    }
   ],
   "source": [
    "import re\n",
    "txt = \"The rain in Spain\"\n",
    "\n",
    "# Search for a word starting with 'S'\n",
    "# \\b = word boundary, S = uppercase S, \\w+ = one or more word characters\n",
    "x = re.search(r\"\\bS\\w+\", txt)\n",
    "# .string returns the string passed into the function\n",
    "print(x.string)    # .string is an attribute → it returns the original string passed to re.search()"
   ]
  },
  {
   "cell_type": "code",
   "execution_count": 56,
   "id": "5de53e84",
   "metadata": {},
   "outputs": [
    {
     "name": "stdout",
     "output_type": "stream",
     "text": [
      "Spain\n"
     ]
    }
   ],
   "source": [
    "#   .group() returns the part of the string where there was a match\n",
    "\n",
    "import re\n",
    "txt = \"The rain in Spain\"\n",
    "x = re.search(r\"\\bS\\w+\", txt)\n",
    "print(x.group())   # .group() is a method → it returns the part of the string where there was a match"
   ]
  },
  {
   "cell_type": "code",
   "execution_count": null,
   "id": "8588fca4",
   "metadata": {},
   "outputs": [
    {
     "name": "stdout",
     "output_type": "stream",
     "text": [
      "5\n"
     ]
    }
   ],
   "source": [
    "import re\n",
    "txt = 'The rain in Spain'\n",
    "x = re.search('a', txt)\n",
    "print(x.start())\n",
    "#  The first 'a' appears in \"rain\", at index 5\n",
    "#  Text:   T  h  e     r  a  i  n     i  n     S  p  a  i  n\n",
    "#  Index:  0  1  2  3  4  5  6  7  8  9 10 11 12 13 14 15 16\n"
   ]
  }
 ],
 "metadata": {
  "kernelspec": {
   "display_name": "Python 3",
   "language": "python",
   "name": "python3"
  },
  "language_info": {
   "codemirror_mode": {
    "name": "ipython",
    "version": 3
   },
   "file_extension": ".py",
   "mimetype": "text/x-python",
   "name": "python",
   "nbconvert_exporter": "python",
   "pygments_lexer": "ipython3",
   "version": "3.10.0"
  }
 },
 "nbformat": 4,
 "nbformat_minor": 5
}
