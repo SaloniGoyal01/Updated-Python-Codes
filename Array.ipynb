{
 "cells": [
  {
   "cell_type": "code",
   "execution_count": 11,
   "id": "fcf3a539",
   "metadata": {},
   "outputs": [
    {
     "name": "stdout",
     "output_type": "stream",
     "text": [
      "['BMW', 'Audi', 'Mercedes', 'Toyota']\n",
      "4\n"
     ]
    }
   ],
   "source": [
    "car = [\"BMW\", \"Audi\", \"Mercedes\", \"Toyota\"]\n",
    "print(car)\n",
    "print(len(car))"
   ]
  },
  {
   "cell_type": "code",
   "execution_count": 12,
   "id": "22f872d5",
   "metadata": {},
   "outputs": [
    {
     "name": "stdout",
     "output_type": "stream",
     "text": [
      "BMW\n",
      "Toyota\n"
     ]
    }
   ],
   "source": [
    "car = [\"BMW\", \"Audi\", \"Mercedes\", \"Toyota\"]\n",
    "print(car[0])\n",
    "print(car[3])\n"
   ]
  },
  {
   "cell_type": "code",
   "execution_count": 13,
   "id": "2a1ca41c",
   "metadata": {},
   "outputs": [
    {
     "name": "stdout",
     "output_type": "stream",
     "text": [
      "['volvo', 'Audi', 'Mercedes', 'Toyota']\n",
      "4\n"
     ]
    }
   ],
   "source": [
    "car = [\"BMW\", \"Audi\", \"Mercedes\", \"Toyota\"]\n",
    "car[0] = \"volvo\"\n",
    "print(car)\n",
    "print(len(car))"
   ]
  },
  {
   "cell_type": "code",
   "execution_count": 15,
   "id": "5d146257",
   "metadata": {},
   "outputs": [
    {
     "name": "stdout",
     "output_type": "stream",
     "text": [
      "BMW\n",
      "Audi\n",
      "Mercedes\n",
      "Toyota\n"
     ]
    }
   ],
   "source": [
    "car = [\"BMW\", \"Audi\", \"Mercedes\", \"Toyota\"]\n",
    "for i in car :\n",
    "    print(i)"
   ]
  },
  {
   "cell_type": "code",
   "execution_count": 19,
   "id": "4b394125",
   "metadata": {},
   "outputs": [
    {
     "name": "stdout",
     "output_type": "stream",
     "text": [
      "Toyota\n",
      "Mercedes\n",
      "Audi\n",
      "BMW\n"
     ]
    }
   ],
   "source": [
    "car = [\"BMW\", \"Audi\", \"Mercedes\", \"Toyota\"]\n",
    "for x in reversed(car) :\n",
    "  print(x)"
   ]
  },
  {
   "cell_type": "code",
   "execution_count": 20,
   "id": "ddc1b0aa",
   "metadata": {},
   "outputs": [
    {
     "name": "stdout",
     "output_type": "stream",
     "text": [
      "['BMW', 'Audi', 'Mercedes', 'Toyota', 'volvo']\n"
     ]
    }
   ],
   "source": [
    "#  append() method to add an element to an array.\n",
    "car = [\"BMW\", \"Audi\", \"Mercedes\", \"Toyota\"]\n",
    "car.append(\"volvo\")\n",
    "print(car)"
   ]
  },
  {
   "cell_type": "code",
   "execution_count": 23,
   "id": "83a65d03",
   "metadata": {},
   "outputs": [
    {
     "name": "stdout",
     "output_type": "stream",
     "text": [
      "['BMW', 'Audi', 'Toyota']\n"
     ]
    }
   ],
   "source": [
    "car = [\"BMW\", \"Audi\", \"Mercedes\", \"Toyota\"]\n",
    "car.pop(2)\n",
    "print(car)"
   ]
  },
  {
   "cell_type": "code",
   "execution_count": 24,
   "id": "a1126fff",
   "metadata": {},
   "outputs": [
    {
     "name": "stdout",
     "output_type": "stream",
     "text": [
      "['BMW', 'Mercedes', 'Toyota']\n"
     ]
    }
   ],
   "source": [
    "car = [\"BMW\", \"Audi\", \"Mercedes\", \"Toyota\"]\n",
    "car.remove(\"Audi\")\n",
    "print(car)"
   ]
  }
 ],
 "metadata": {
  "kernelspec": {
   "display_name": "Python 3",
   "language": "python",
   "name": "python3"
  },
  "language_info": {
   "codemirror_mode": {
    "name": "ipython",
    "version": 3
   },
   "file_extension": ".py",
   "mimetype": "text/x-python",
   "name": "python",
   "nbconvert_exporter": "python",
   "pygments_lexer": "ipython3",
   "version": "3.10.0"
  }
 },
 "nbformat": 4,
 "nbformat_minor": 5
}
