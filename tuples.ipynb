{
 "cells": [
  {
   "cell_type": "code",
   "execution_count": 12,
   "id": "d0cc9dd4",
   "metadata": {},
   "outputs": [
    {
     "name": "stdout",
     "output_type": "stream",
     "text": [
      "<class 'tuple'>\n"
     ]
    }
   ],
   "source": [
    "tup = (2, 3, 5)\n",
    "print(type(tup))"
   ]
  },
  {
   "cell_type": "code",
   "execution_count": 15,
   "id": "79e67e01",
   "metadata": {},
   "outputs": [
    {
     "name": "stdout",
     "output_type": "stream",
     "text": [
      "<class 'tuple'>\n"
     ]
    }
   ],
   "source": [
    "tup = (1, )\n",
    "print(type(tup))"
   ]
  },
  {
   "cell_type": "code",
   "execution_count": 16,
   "id": "377f21cb",
   "metadata": {},
   "outputs": [
    {
     "name": "stdout",
     "output_type": "stream",
     "text": [
      "2\n"
     ]
    }
   ],
   "source": [
    "tup = (2, 6, 8, 4, 3)\n",
    "print(tup[0])"
   ]
  },
  {
   "cell_type": "code",
   "execution_count": 18,
   "id": "bcaa81d6",
   "metadata": {},
   "outputs": [
    {
     "name": "stdout",
     "output_type": "stream",
     "text": [
      "(40, 60)\n"
     ]
    }
   ],
   "source": [
    "# Slicing in Tuple\n",
    "tup = (20, 40, 60, 80)\n",
    "print(tup[1:3])"
   ]
  }
 ],
 "metadata": {
  "kernelspec": {
   "display_name": "Python 3",
   "language": "python",
   "name": "python3"
  },
  "language_info": {
   "codemirror_mode": {
    "name": "ipython",
    "version": 3
   },
   "file_extension": ".py",
   "mimetype": "text/x-python",
   "name": "python",
   "nbconvert_exporter": "python",
   "pygments_lexer": "ipython3",
   "version": "3.10.0"
  }
 },
 "nbformat": 4,
 "nbformat_minor": 5
}
