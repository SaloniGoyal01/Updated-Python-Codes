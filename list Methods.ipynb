{
 "cells": [
  {
   "cell_type": "code",
   "execution_count": null,
   "id": "b6877886",
   "metadata": {},
   "outputs": [
    {
     "name": "stdout",
     "output_type": "stream",
     "text": [
      "None\n",
      "None\n",
      "[10, 100, 90, 40, 120, 60, 20, 2, 20]\n"
     ]
    }
   ],
   "source": [
    "# The append() method in Python is used to add a new element to the end of a list.\n",
    "list = [10, 100, 90, 40, 120, 60, 20]\n",
    "print(list.append(2))\n",
    "print(list.append(20))\n",
    "print(list)"
   ]
  },
  {
   "cell_type": "code",
   "execution_count": null,
   "id": "b20dbb7e",
   "metadata": {},
   "outputs": [
    {
     "name": "stdout",
     "output_type": "stream",
     "text": [
      "None\n",
      "[10, 20, 40, 60, 90, 100, 120]\n"
     ]
    }
   ],
   "source": [
    "# ascending order, i.e., from smallest to largest.\n",
    "list = [10, 100, 90, 40, 120, 60, 20]\n",
    "print(list.sort())\n",
    "print(list)"
   ]
  },
  {
   "cell_type": "code",
   "execution_count": 12,
   "id": "0f208d9c",
   "metadata": {},
   "outputs": [
    {
     "name": "stdout",
     "output_type": "stream",
     "text": [
      "None\n",
      "[120, 100, 90, 60, 40, 20, 10]\n"
     ]
    }
   ],
   "source": [
    "# list.sort(reverse=True) sorts the list in descending order (from largest to smallest).\n",
    "list = [10, 100, 90, 40, 120, 60, 20]\n",
    "print(list.sort(reverse=True))\n",
    "print(list)"
   ]
  },
  {
   "cell_type": "code",
   "execution_count": null,
   "id": "f99d15df",
   "metadata": {},
   "outputs": [
    {
     "name": "stdout",
     "output_type": "stream",
     "text": [
      "None\n",
      "[20, 60, 120, 40, 90, 100, 10]\n"
     ]
    }
   ],
   "source": [
    "# list.reverse() reverses the order of elements in the list.\n",
    "list = [10, 100, 90, 40, 120, 60, 20]\n",
    "print(list.reverse())\n",
    "print(list)"
   ]
  },
  {
   "cell_type": "code",
   "execution_count": 15,
   "id": "3f8619e4",
   "metadata": {},
   "outputs": [
    {
     "name": "stdout",
     "output_type": "stream",
     "text": [
      "None\n",
      "['a', 'm', 'o', 't', 'y', 'z']\n"
     ]
    }
   ],
   "source": [
    "list = [\"a\", \"t\", \"o\", \"y\", \"m\", \"z\"]\n",
    "print(list.sort())\n",
    "print(list)"
   ]
  },
  {
   "cell_type": "code",
   "execution_count": null,
   "id": "df3f292c",
   "metadata": {},
   "outputs": [
    {
     "name": "stdout",
     "output_type": "stream",
     "text": [
      "None\n",
      "[10, 100, 200, 90, 40, 120, 60, 20]\n"
     ]
    }
   ],
   "source": [
    "# insert(index, value) \n",
    "# inserts 200 at index 2 \n",
    "list = [10, 100, 90, 40, 120, 60, 20]\n",
    "print(list.insert(2,200))\n",
    "print(list)"
   ]
  },
  {
   "cell_type": "code",
   "execution_count": 22,
   "id": "e4e1063f",
   "metadata": {},
   "outputs": [
    {
     "name": "stdout",
     "output_type": "stream",
     "text": [
      "None\n",
      "None\n",
      "['h', 's', 'a', 't', 'o', 'y', 'm', 'z']\n"
     ]
    }
   ],
   "source": [
    "list = [\"a\", \"t\", \"o\", \"y\", \"m\", \"z\"]\n",
    "print(list.insert(0,\"s\"))\n",
    "print(list.insert(0,\"h\"))\n",
    "print(list)"
   ]
  },
  {
   "cell_type": "code",
   "execution_count": 25,
   "id": "5c9fae32",
   "metadata": {},
   "outputs": [
    {
     "name": "stdout",
     "output_type": "stream",
     "text": [
      "None\n",
      "['a', 'o', 'y', 't', 'm', 'z']\n"
     ]
    }
   ],
   "source": [
    "list = [\"a\", \"t\", \"o\", \"y\", \"t\", \"m\", \"z\"]\n",
    "print(list.remove(\"t\"))\n",
    "# It removes the first occurrence of value from the list.\n",
    "print(list)"
   ]
  },
  {
   "cell_type": "code",
   "execution_count": null,
   "id": "cf32dc0a",
   "metadata": {},
   "outputs": [
    {
     "name": "stdout",
     "output_type": "stream",
     "text": [
      "a\n",
      "['t', 'o', 'y', 'm', 'z']\n"
     ]
    }
   ],
   "source": [
    "#  pop(index)\n",
    "list = [\"a\", \"t\", \"o\", \"y\", \"m\", \"z\"]\n",
    "print(list.pop(0))\n",
    "print(list)"
   ]
  },
  {
   "cell_type": "code",
   "execution_count": null,
   "id": "19ea3158",
   "metadata": {},
   "outputs": [
    {
     "name": "stdout",
     "output_type": "stream",
     "text": [
      "3\n",
      "['a', 't', 'o', 'y', 't', 'm', 'z', 't']\n"
     ]
    }
   ],
   "source": [
    "#  list.count(value)\n",
    "#  It Returns the number of times value appears in the list.\n",
    "list = [\"a\", \"t\", \"o\", \"y\", \"t\", \"m\", \"z\", \"t\"]\n",
    "print(list.count(\"t\"))\n",
    "print(list)"
   ]
  },
  {
   "cell_type": "code",
   "execution_count": null,
   "id": "3bfb87c6",
   "metadata": {},
   "outputs": [
    {
     "name": "stdout",
     "output_type": "stream",
     "text": [
      "[10, 100, 90, 40, 120, 60, 20]\n",
      "[10, 100, 90, 40, 120, 60, 20]\n"
     ]
    }
   ],
   "source": [
    "list = [10, 100, 90, 40, 120, 60, 20]\n",
    "print(list.copy())\n",
    "#  copy() creates and returns a new list that is a shallow copy of the original list\n",
    "print(list)"
   ]
  },
  {
   "cell_type": "code",
   "execution_count": null,
   "id": "a7298e55",
   "metadata": {},
   "outputs": [
    {
     "name": "stdout",
     "output_type": "stream",
     "text": [
      "None\n",
      "[]\n"
     ]
    }
   ],
   "source": [
    "#  list.clear() removes all the elements from the list.\n",
    "#  After calling it, the list becomes: [] (an empty list).\n",
    "list = [10, 100, 90, 40, 120, 60, 20]\n",
    "print(list.clear())\n",
    "print(list)"
   ]
  }
 ],
 "metadata": {
  "kernelspec": {
   "display_name": "Python 3",
   "language": "python",
   "name": "python3"
  },
  "language_info": {
   "codemirror_mode": {
    "name": "ipython",
    "version": 3
   },
   "file_extension": ".py",
   "mimetype": "text/x-python",
   "name": "python",
   "nbconvert_exporter": "python",
   "pygments_lexer": "ipython3",
   "version": "3.10.0"
  }
 },
 "nbformat": 4,
 "nbformat_minor": 5
}
