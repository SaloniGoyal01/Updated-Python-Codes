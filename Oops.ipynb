{
 "cells": [
  {
   "cell_type": "code",
   "execution_count": 8,
   "id": "5d4eb6e0",
   "metadata": {},
   "outputs": [
    {
     "name": "stdout",
     "output_type": "stream",
     "text": [
      "Saloni\n",
      "19\n"
     ]
    }
   ],
   "source": [
    "#  Class & Object\n",
    "\n",
    "#   Creating Class\n",
    "class Student :\n",
    "    name = \"Saloni\"\n",
    "    age = 19\n",
    "#   Creating Object(Instance)\n",
    "s1 = Student()\n",
    "print(s1.name)\n",
    "print(s1.age)"
   ]
  },
  {
   "cell_type": "code",
   "execution_count": null,
   "id": "c254bf05",
   "metadata": {},
   "outputs": [
    {
     "name": "stdout",
     "output_type": "stream",
     "text": [
      "Adding new Students in Database\n",
      "Saloni\n",
      "Adding new Students in Database\n",
      "Harsh\n"
     ]
    }
   ],
   "source": [
    "#    The __init__() Function\n",
    "#   The __init__() function is a special method that is automatically called when an object is created.\n",
    "\n",
    "\n",
    "class Student :\n",
    "    def __init__(self, fullName) :    # __init__  Constructor, runs on object creation     \n",
    "                                      #   self refers to the current object being created.\n",
    "                                      #   fullName is the parameter you pass while creating the object.\n",
    "        self.name = fullName          # It stores the given name inside the object.\n",
    "        print(\"Adding new Students in Database\")\n",
    "#  Creates a new object\n",
    "s1 = Student(\"Saloni\")   # the string \"Saloni\" goes into fullName, and is stored in self.name.\n",
    "#   Calls __init__ with \"Saloni\"\n",
    "print(s1.name)\n",
    "\n",
    "s2 = Student(\"Harsh\")       # Calls __init__ with \"Harsh\"\n",
    "print(s2.name)"
   ]
  },
  {
   "cell_type": "code",
   "execution_count": 18,
   "id": "e579cf55",
   "metadata": {},
   "outputs": [
    {
     "name": "stdout",
     "output_type": "stream",
     "text": [
      "Adding new Students in DB\n",
      "Harsh 23\n",
      "Saloni 19\n"
     ]
    }
   ],
   "source": [
    "class Student :\n",
    "    def __init__(self, name, age) :\n",
    "        self.name = name \n",
    "        self.age = age \n",
    "    print(\"Adding new Students in DB\")\n",
    "s1 = Student(\"Harsh\", 23)\n",
    "print(s1.name, s1.age)\n",
    "\n",
    "s2 = Student(\"Saloni\", 19)\n",
    "print(s2.name, s2.age)"
   ]
  },
  {
   "cell_type": "code",
   "execution_count": 3,
   "id": "3ec28498",
   "metadata": {},
   "outputs": [
    {
     "name": "stdout",
     "output_type": "stream",
     "text": [
      "Adding new Students in DB\n",
      "Harsh 23\n",
      "Saloni 19\n"
     ]
    }
   ],
   "source": [
    "class Student :\n",
    "\n",
    "    #  Default Constructor\n",
    "    def __init__(self) :\n",
    "        pass\n",
    "\n",
    "    #  Parameterized Constructor\n",
    "    def __init__(self, name, age) :\n",
    "        self.name = name\n",
    "        self.age = age\n",
    "    print(\"Adding new Students in DB\")\n",
    "\n",
    "s1 = Student(\"Harsh\", 23)\n",
    "print(s1.name, s1.age)\n",
    "\n",
    "s2 = Student(\"Saloni\", 19)\n",
    "print(s2.name, s2.age)"
   ]
  },
  {
   "cell_type": "code",
   "execution_count": 6,
   "id": "8598b0ae",
   "metadata": {},
   "outputs": [
    {
     "name": "stdout",
     "output_type": "stream",
     "text": [
      "Ram CS\n",
      "Shyam AI\n",
      "ABC College\n"
     ]
    }
   ],
   "source": [
    "class Student :\n",
    "    college_Name = \"ABC College\"\n",
    "\n",
    "    def __init__(self, name, branch) :\n",
    "        self.name = name\n",
    "        self.branch = branch\n",
    "\n",
    "s1 = Student(\"Ram\", \"CS\")\n",
    "print(s1.name, s1.branch)\n",
    "\n",
    "s2 = Student(\"Shyam\", \"AI\")\n",
    "print(s2.name, s2.branch)\n",
    "\n",
    "print(Student.college_Name)"
   ]
  },
  {
   "cell_type": "code",
   "execution_count": null,
   "id": "c4d2cf08",
   "metadata": {},
   "outputs": [
    {
     "name": "stdout",
     "output_type": "stream",
     "text": [
      "Sita\n"
     ]
    }
   ],
   "source": [
    "class Student :\n",
    "    college_Name = \"ABC Clg\"\n",
    "    name = \"anonymous\"   # Class Attribute\n",
    "\n",
    "    def __init__(self, name) :\n",
    "        self.name = name    # Obj. Attribute\n",
    "#  Object attributes have higher priority than class attributes with the same name. (Obj. attr > class attr)\n",
    "s1 = Student(\"Sita\")\n",
    "print(s1.name)"
   ]
  },
  {
   "cell_type": "code",
   "execution_count": 1,
   "id": "cc42f051",
   "metadata": {},
   "outputs": [
    {
     "name": "stdout",
     "output_type": "stream",
     "text": [
      "<__main__.Student object at 0x000001FF20C3BB50>\n"
     ]
    }
   ],
   "source": [
    "#   The __str__() Function\n",
    "#   The __str__() function controls what should be returned when the class object is represented as a string.\n",
    "\n",
    "#  The string representation of an object WITHOUT the __str__() function:\n",
    "\n",
    "class Student :\n",
    "    def __init__(self, name, age):\n",
    "        self.name = name\n",
    "        self.age = age\n",
    "\n",
    "s1 = Student(\"Saloni\", 19)\n",
    "print(s1)"
   ]
  },
  {
   "cell_type": "code",
   "execution_count": null,
   "id": "4d436511",
   "metadata": {},
   "outputs": [
    {
     "name": "stdout",
     "output_type": "stream",
     "text": [
      "Saloni 19\n"
     ]
    }
   ],
   "source": [
    "#   The string representation of an object WITH the __str__() function:\n",
    "\n",
    "class Student :\n",
    "    def __init__(self, name, age):\n",
    "        self.name = name\n",
    "        self.age = age\n",
    "\n",
    "    def __str__(self):\n",
    "        return f\"{self.name} ({self.age})\"\n",
    "\n",
    "s1 = Student(\"Saloni\", 19)\n",
    "print(s1)    "
   ]
  },
  {
   "cell_type": "code",
   "execution_count": null,
   "id": "0204055f",
   "metadata": {},
   "outputs": [
    {
     "name": "stdout",
     "output_type": "stream",
     "text": [
      "welcome Student sita\n"
     ]
    }
   ],
   "source": [
    "#  Methods\n",
    "\n",
    "#  Object Methods\n",
    "\n",
    "\n",
    "class Student :\n",
    "\n",
    "#  Constructor method to initialize object attributes\n",
    "    def __init__(self, name) :\n",
    "        self.name = name\n",
    "\n",
    "#  Method to print a welcome message using the student's name\n",
    "    def welcome(self) :\n",
    "        print(\"welcome Student\", self.name)\n",
    "\n",
    "# Create an object 's1' of the Student class with name \"sita\"\n",
    "s1 = Student(\"sita\")\n",
    "s1.welcome()    #  Calls the method to display the welcome message."
   ]
  },
  {
   "cell_type": "code",
   "execution_count": 11,
   "id": "8845fa07",
   "metadata": {},
   "outputs": [
    {
     "name": "stdout",
     "output_type": "stream",
     "text": [
      "Welcome Student\n",
      "20\n"
     ]
    }
   ],
   "source": [
    "class Student :\n",
    "\n",
    "# Constructor to initialize the student's name and age\n",
    "    def __init__(self, name, age) :\n",
    "        self.name = name\n",
    "        self.age = age\n",
    "\n",
    "# Method to display a welcome message\n",
    "    def welcome(self) :\n",
    "        print(\"Welcome Student\")\n",
    "\n",
    "# Method to return the student's age\n",
    "    def get_age(self) :\n",
    "        return self.age\n",
    "\n",
    "s1 = Student(\"Shiv\", 20)\n",
    "s1.welcome()\n",
    "print(s1.get_age())       "
   ]
  },
  {
   "cell_type": "code",
   "execution_count": 12,
   "id": "a96f7541",
   "metadata": {},
   "outputs": [
    {
     "name": "stdout",
     "output_type": "stream",
     "text": [
      "car started...\n"
     ]
    }
   ],
   "source": [
    "#  Abstraction Method\n",
    "\n",
    "class Car :\n",
    "    def __init__(self) :\n",
    "        self.acc = False\n",
    "        self.clutch = False\n",
    "        self.brk = False\n",
    "\n",
    "    def start(self) :\n",
    "        self.acc = True\n",
    "        self.clutch = True\n",
    "        self.brk = True\n",
    "        print(\"car started...\")\n",
    "\n",
    "c1 = Car()\n",
    "c1.start()        #  hiding internal logic (acc, clutch, brake) inside the start() method.\n"
   ]
  }
 ],
 "metadata": {
  "kernelspec": {
   "display_name": "Python 3",
   "language": "python",
   "name": "python3"
  },
  "language_info": {
   "codemirror_mode": {
    "name": "ipython",
    "version": 3
   },
   "file_extension": ".py",
   "mimetype": "text/x-python",
   "name": "python",
   "nbconvert_exporter": "python",
   "pygments_lexer": "ipython3",
   "version": "3.10.0"
  }
 },
 "nbformat": 4,
 "nbformat_minor": 5
}
